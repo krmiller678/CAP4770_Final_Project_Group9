{
 "cells": [
  {
   "cell_type": "markdown",
   "metadata": {},
   "source": [
    "## Predicting Restaurant Health Inspection Scores Using Yelp Reviews\n",
    "\n",
    "<h2 style=\"color: lightskyblue;\">I. Introduction</h2>\n",
    "\n",
    "The objective of our project is to apply data science techniques from our Intro to Data Science Course in order to build out models that can accurately predict health inspection outcomes for restaurants in a given area. We aim to combine Natural Language Processing of review text for sentiment analysis with structured meta data to construct these predictive models. <br><br>\n",
    "In order to best explore our data, we will follow the *Knowledge Discovery from Data* approach. Namely, we seek to:\n",
    "+ Clean the selected datasets to remove noise\n",
    "+ Integrate and join data from  two sources (Yelp Academic Dataset and Select City Health Scores)\n",
    "+ Select the relevant data from our constructed dataset for analysis\n",
    "+ Transform our data into a usable form for mining\n",
    "+ Mine our data to find interesting patterns\n",
    "+ Evaluate our patterns based on interestingness to construct our models\n",
    "+ Present our mined knowledge and models to positively impact the consumers ability to recognize safe restaurants"
   ]
  },
  {
   "cell_type": "code",
   "execution_count": 1,
   "metadata": {},
   "outputs": [],
   "source": [
    "# Section I Snippet - Importing libraries to be used throughout notebook\n",
    "import json\n",
    "import pandas as pd\n",
    "import matplotlib.pyplot as plt\n",
    "import re\n",
    "from thefuzz import fuzz\n",
    "from thefuzz import process"
   ]
  },
  {
   "cell_type": "markdown",
   "metadata": {},
   "source": [
    "<h2 style=\"color: lightskyblue;\">II. Cleaning Selected Datasets</h2>\n",
    "\n",
    "To clean our data sets and prepare them for joining so that we may build out our classification models, we pursue 2 tasks:\n",
    "1. *Cleaning our Yelp data*\n",
    "2. *Cleaning our City health inspection data*"
   ]
  },
  {
   "cell_type": "markdown",
   "metadata": {},
   "source": [
    "<h3 style=\"color: orange;\">Task 1: Cleaning Yelp Data</h3>\n",
    "\n",
    "We begin our data analysis process by working with our Yelp dataset in JSON format in order to clean the data and bring it down to a workable size. Our selected city for analysis is Tampa as both the Yelp and Health Department data are well populated. <br><br>\n",
    "**NOTE** - Due to the large size of the datasets being operated upon, we have not included them in our repository. Please visit https://www.yelp.com/dataset if you wish to run this analysis locally and ensure that the following files are placed in the raw_datasets directory after cloning.\n",
    "\n",
    "+ *yelp_academic_dataset_business.json*\n",
    "+ *yelp_academic_dataset_review.json*"
   ]
  },
  {
   "cell_type": "code",
   "execution_count": 2,
   "metadata": {},
   "outputs": [],
   "source": [
    "# Task 1 Snippet A - Cleaning the Business IDs\n",
    "\n",
    "target_city = \"Tampa\"\n",
    "target_state = \"FL\"\n",
    "business_ids = set()\n",
    "filtered_businesses = []\n",
    "\n",
    "with open('./raw_datasets/yelp_academic_dataset_business.json', 'r', encoding = 'utf-8') as f:\n",
    "    for line in f:\n",
    "        data = json.loads(line)\n",
    "        if data.get('city') == target_city and data.get('state') == target_state:\n",
    "            filtered_businesses.append(data)\n",
    "            business_ids.add(data['business_id'])\n",
    "\n",
    "# Save filtered businesses\n",
    "with open('filtered_business.json', 'w', encoding='utf-8') as f:\n",
    "    for b in filtered_businesses:\n",
    "        f.write(json.dumps(b) + '\\n')"
   ]
  },
  {
   "cell_type": "markdown",
   "metadata": {},
   "source": [
    "**NOTE** - In your directory, you can now see the result of this script as our *filtered_business.json* file."
   ]
  },
  {
   "cell_type": "code",
   "execution_count": 3,
   "metadata": {},
   "outputs": [],
   "source": [
    "# Task 1 Snippet B - Filtering the Reviews\n",
    "filtered_reviews = []\n",
    "\n",
    "with open('./raw_datasets/yelp_academic_dataset_review.json', 'r', encoding='utf-8') as f:\n",
    "    for i, line in enumerate(f):\n",
    "        data = json.loads(line)\n",
    "        if data['business_id'] in business_ids:\n",
    "            filtered_reviews.append(data)\n",
    "\n",
    "with open('filtered_reviews.json', 'w', encoding='utf-8') as f:\n",
    "    for r in filtered_reviews:\n",
    "        f.write(json.dumps(r) + '\\n')"
   ]
  },
  {
   "cell_type": "markdown",
   "metadata": {},
   "source": [
    "**NOTE** - In your directory, you can now see the result of this script as our *filtered_reviews.json* file."
   ]
  },
  {
   "cell_type": "code",
   "execution_count": 4,
   "metadata": {
    "scrolled": true
   },
   "outputs": [
    {
     "data": {
      "text/html": [
       "<div>\n",
       "<style scoped>\n",
       "    .dataframe tbody tr th:only-of-type {\n",
       "        vertical-align: middle;\n",
       "    }\n",
       "\n",
       "    .dataframe tbody tr th {\n",
       "        vertical-align: top;\n",
       "    }\n",
       "\n",
       "    .dataframe thead th {\n",
       "        text-align: right;\n",
       "    }\n",
       "</style>\n",
       "<table border=\"1\" class=\"dataframe\">\n",
       "  <thead>\n",
       "    <tr style=\"text-align: right;\">\n",
       "      <th></th>\n",
       "      <th>stars_review</th>\n",
       "      <th>text</th>\n",
       "      <th>name</th>\n",
       "      <th>categories</th>\n",
       "    </tr>\n",
       "  </thead>\n",
       "  <tbody>\n",
       "    <tr>\n",
       "      <th>0</th>\n",
       "      <td>5.0</td>\n",
       "      <td>My experience with Shalimar was nothing but wo...</td>\n",
       "      <td>Shalimar Fine Jewelers</td>\n",
       "      <td>Shopping, Jewelry</td>\n",
       "    </tr>\n",
       "    <tr>\n",
       "      <th>1</th>\n",
       "      <td>4.0</td>\n",
       "      <td>Very helpful and patient.  20\" 14k gold chain ...</td>\n",
       "      <td>Shalimar Fine Jewelers</td>\n",
       "      <td>Shopping, Jewelry</td>\n",
       "    </tr>\n",
       "    <tr>\n",
       "      <th>2</th>\n",
       "      <td>5.0</td>\n",
       "      <td>They were all very easy to work with and went ...</td>\n",
       "      <td>Shalimar Fine Jewelers</td>\n",
       "      <td>Shopping, Jewelry</td>\n",
       "    </tr>\n",
       "    <tr>\n",
       "      <th>3</th>\n",
       "      <td>1.0</td>\n",
       "      <td>They have forever lost my business. Ordered a ...</td>\n",
       "      <td>Shalimar Fine Jewelers</td>\n",
       "      <td>Shopping, Jewelry</td>\n",
       "    </tr>\n",
       "    <tr>\n",
       "      <th>4</th>\n",
       "      <td>1.0</td>\n",
       "      <td>please dont go here they have bullshit gold th...</td>\n",
       "      <td>Shalimar Fine Jewelers</td>\n",
       "      <td>Shopping, Jewelry</td>\n",
       "    </tr>\n",
       "  </tbody>\n",
       "</table>\n",
       "</div>"
      ],
      "text/plain": [
       "   stars_review                                               text  \\\n",
       "0           5.0  My experience with Shalimar was nothing but wo...   \n",
       "1           4.0  Very helpful and patient.  20\" 14k gold chain ...   \n",
       "2           5.0  They were all very easy to work with and went ...   \n",
       "3           1.0  They have forever lost my business. Ordered a ...   \n",
       "4           1.0  please dont go here they have bullshit gold th...   \n",
       "\n",
       "                     name         categories  \n",
       "0  Shalimar Fine Jewelers  Shopping, Jewelry  \n",
       "1  Shalimar Fine Jewelers  Shopping, Jewelry  \n",
       "2  Shalimar Fine Jewelers  Shopping, Jewelry  \n",
       "3  Shalimar Fine Jewelers  Shopping, Jewelry  \n",
       "4  Shalimar Fine Jewelers  Shopping, Jewelry  "
      ]
     },
     "execution_count": 4,
     "metadata": {},
     "output_type": "execute_result"
    }
   ],
   "source": [
    "# Task 1 Snippet C - Importing reviews and business IDs as a data frame to clean unused columns\n",
    "\n",
    "def load_json_lines(filename):\n",
    "    with open(filename, 'r', encoding='utf-8') as f:\n",
    "        return pd.DataFrame([json.loads(line) for line in f])\n",
    "\n",
    "business_df = load_json_lines('filtered_business.json')\n",
    "review_df = load_json_lines('filtered_reviews.json')\n",
    "\n",
    "# Join on business_id\n",
    "combined_df = review_df.merge(business_df, on='business_id', suffixes=('_review', '_business'))\n",
    "\n",
    "combined_df[['stars_review', 'text', 'name', 'categories']].head()"
   ]
  },
  {
   "cell_type": "code",
   "execution_count": 5,
   "metadata": {
    "scrolled": false
   },
   "outputs": [
    {
     "name": "stdout",
     "output_type": "stream",
     "text": [
      "Index(['business_id', 'cool', 'date', 'funny', 'review_id', 'stars_review',\n",
      "       'text', 'useful', 'user_id', 'address', 'attributes', 'categories',\n",
      "       'city', 'hours', 'is_open', 'latitude', 'longitude', 'name',\n",
      "       'postal_code', 'review_count', 'stars_business', 'state'],\n",
      "      dtype='object')\n"
     ]
    }
   ],
   "source": [
    "# Task 1 Snippet D - Refining the schema of the combined_df\n",
    "print(combined_df.columns)\n",
    "combined_df_refined = combined_df[['business_id', 'stars_review', 'text', 'address', 'categories', 'name',]]"
   ]
  },
  {
   "cell_type": "markdown",
   "metadata": {},
   "source": [
    "**NOTE** - From the above, we can see that even in our combined and refined data frame, we are still holding onto data points we do not wish to assess. Nominally, we must only include those categories of business that have food in the category."
   ]
  },
  {
   "cell_type": "code",
   "execution_count": 6,
   "metadata": {},
   "outputs": [
    {
     "data": {
      "text/html": [
       "<div>\n",
       "<style scoped>\n",
       "    .dataframe tbody tr th:only-of-type {\n",
       "        vertical-align: middle;\n",
       "    }\n",
       "\n",
       "    .dataframe tbody tr th {\n",
       "        vertical-align: top;\n",
       "    }\n",
       "\n",
       "    .dataframe thead th {\n",
       "        text-align: right;\n",
       "    }\n",
       "</style>\n",
       "<table border=\"1\" class=\"dataframe\">\n",
       "  <thead>\n",
       "    <tr style=\"text-align: right;\">\n",
       "      <th></th>\n",
       "      <th>business_id</th>\n",
       "      <th>stars_review</th>\n",
       "      <th>text</th>\n",
       "      <th>address</th>\n",
       "      <th>name</th>\n",
       "    </tr>\n",
       "  </thead>\n",
       "  <tbody>\n",
       "    <tr>\n",
       "      <th>280</th>\n",
       "      <td>cg4JFJcCxRTTMmcg9O9KtA</td>\n",
       "      <td>1.0</td>\n",
       "      <td>Skip this train wreck if you are looking for d...</td>\n",
       "      <td>718 S Howard Ave</td>\n",
       "      <td>Ava</td>\n",
       "    </tr>\n",
       "    <tr>\n",
       "      <th>281</th>\n",
       "      <td>cg4JFJcCxRTTMmcg9O9KtA</td>\n",
       "      <td>4.0</td>\n",
       "      <td>This was my first time dining at Ava and I enj...</td>\n",
       "      <td>718 S Howard Ave</td>\n",
       "      <td>Ava</td>\n",
       "    </tr>\n",
       "    <tr>\n",
       "      <th>282</th>\n",
       "      <td>cg4JFJcCxRTTMmcg9O9KtA</td>\n",
       "      <td>5.0</td>\n",
       "      <td>Amazing dinner.  What a unique menu.  The serv...</td>\n",
       "      <td>718 S Howard Ave</td>\n",
       "      <td>Ava</td>\n",
       "    </tr>\n",
       "    <tr>\n",
       "      <th>283</th>\n",
       "      <td>cg4JFJcCxRTTMmcg9O9KtA</td>\n",
       "      <td>1.0</td>\n",
       "      <td>We went for lunch on Saturday.  They only serv...</td>\n",
       "      <td>718 S Howard Ave</td>\n",
       "      <td>Ava</td>\n",
       "    </tr>\n",
       "    <tr>\n",
       "      <th>284</th>\n",
       "      <td>cg4JFJcCxRTTMmcg9O9KtA</td>\n",
       "      <td>2.0</td>\n",
       "      <td>I order the bone in ribeye fit market value. T...</td>\n",
       "      <td>718 S Howard Ave</td>\n",
       "      <td>Ava</td>\n",
       "    </tr>\n",
       "  </tbody>\n",
       "</table>\n",
       "</div>"
      ],
      "text/plain": [
       "                business_id  stars_review  \\\n",
       "280  cg4JFJcCxRTTMmcg9O9KtA           1.0   \n",
       "281  cg4JFJcCxRTTMmcg9O9KtA           4.0   \n",
       "282  cg4JFJcCxRTTMmcg9O9KtA           5.0   \n",
       "283  cg4JFJcCxRTTMmcg9O9KtA           1.0   \n",
       "284  cg4JFJcCxRTTMmcg9O9KtA           2.0   \n",
       "\n",
       "                                                  text           address name  \n",
       "280  Skip this train wreck if you are looking for d...  718 S Howard Ave  Ava  \n",
       "281  This was my first time dining at Ava and I enj...  718 S Howard Ave  Ava  \n",
       "282  Amazing dinner.  What a unique menu.  The serv...  718 S Howard Ave  Ava  \n",
       "283  We went for lunch on Saturday.  They only serv...  718 S Howard Ave  Ava  \n",
       "284  I order the bone in ribeye fit market value. T...  718 S Howard Ave  Ava  "
      ]
     },
     "execution_count": 6,
     "metadata": {},
     "output_type": "execute_result"
    }
   ],
   "source": [
    "# Task 1 Snippet E - Generating final tampa_review_df\n",
    "tampa_review_df = ( combined_df_refined[combined_df_refined['categories'].str.contains('Food', na=False)] \\\n",
    "                   .drop(columns=['categories']) )\n",
    "tampa_review_df.head()"
   ]
  },
  {
   "cell_type": "code",
   "execution_count": 7,
   "metadata": {},
   "outputs": [
    {
     "data": {
      "image/png": "[encoded data removed]",
      "text/plain": [
       "<matplotlib.figure.Figure at 0x78c077478d30>"
      ]
     },
     "metadata": {},
     "output_type": "display_data"
    }
   ],
   "source": [
    "# Task 1 Snippet F - Visual of Star Distribution\n",
    "%matplotlib inline\n",
    "grouped = tampa_review_df.groupby('stars_review').size()\n",
    "\n",
    "# Plot\n",
    "plt.figure(figsize=(8, 8))\n",
    "plt.pie(\n",
    "    grouped,\n",
    "    labels=[f\"{int(star)} Stars\" for star in grouped.index],\n",
    "    autopct='%1.1f%%',\n",
    "    startangle=140,\n",
    "    wedgeprops={'edgecolor': 'white', 'linewidth': 1}\n",
    ")\n",
    "plt.title(\"Distribution of Yelp Star Ratings (Tampa Area)\", fontsize=14)\n",
    "plt.axis('equal')  # Keep it a circle\n",
    "plt.tight_layout()\n",
    "plt.show()"
   ]
  },
  {
   "cell_type": "markdown",
   "metadata": {},
   "source": [
    "<h3 style=\"color: orange;\">Task 2: Cleaning Tampa Health Data</h3>\n",
    "\n",
    "Our data analysis and exploration of our Tampa Health Data begins by importing the statewide food service inspections for fiscal year 2022-2023 as this is what the Yelp dataset covers up to.  <br><br>\n",
    "**NOTE** - Due to the large size of the datasets being operated upon, we have not included them in our repository. Please visit https://www2.myfloridalicense.com/hotels-restaurants/public-records/#1506344763000-101d4ee5-7a59 if you wish to run this analysis locally and ensure that the following file is placed in the raw_datasets directory after cloning. You may have to convert it from .xlsx to .csv\n",
    "\n",
    "+ *fdinspi_2223.csv*"
   ]
  },
  {
   "cell_type": "code",
   "execution_count": 8,
   "metadata": {},
   "outputs": [
    {
     "data": {
      "text/plain": [
       "Index(['DISTRICT', 'COUNTYCODE', 'CNTY_DESC', 'PROFESSION', 'LICENSE_NO',\n",
       "       'DBA_NAME', 'LOC_ADDRESS', 'LOC_CITY', 'LOC_ZIP', 'INSP_NO', 'VISIT_NO',\n",
       "       'INSPCLASS', 'INSPTYPE', 'DISPOSITION', 'INSP_DATE', 'CRIT_VIOL',\n",
       "       'NONCRIT_VIOL', 'VIOLATIONS', 'HIGH_VIOL', 'INTERMED_VIOL',\n",
       "       'BASIC_VIOL', 'HT_VIOL', 'PDA', 'V_01', 'V_02', 'V_03', 'V_04', 'V_05',\n",
       "       'V_06', 'V_07', 'V_08', 'V_09', 'V_10', 'V_11', 'V_12', 'V_13', 'V_14',\n",
       "       'V_15', 'V_16', 'V_17', 'V_18', 'V_19', 'V_20', 'V_21', 'V_22', 'V_23',\n",
       "       'V_24', 'V_25', 'V_26', 'V_27', 'V_28', 'V_29', 'V_30', 'V_31', 'V_32',\n",
       "       'V_33', 'V_34', 'V_35', 'V_36', 'V_37', 'V_38', 'V_39', 'V_40', 'V_41',\n",
       "       'V_42', 'V_43', 'V_44', 'V_45', 'V_46', 'V_47', 'V_48', 'V_49', 'V_50',\n",
       "       'V_51', 'V_52', 'V_53', 'V_54', 'V_55', 'V_56', 'V_57', 'V_58',\n",
       "       'LIC_ID', 'INSP_VST_ID'],\n",
       "      dtype='object')"
      ]
     },
     "execution_count": 8,
     "metadata": {},
     "output_type": "execute_result"
    }
   ],
   "source": [
    "# Task 2 Snippet A - Importing our Tampa Health Data\n",
    "health_df = pd.read_csv(\"./raw_datasets/fdinspi_2223.csv\")\n",
    "health_df.columns"
   ]
  },
  {
   "cell_type": "markdown",
   "metadata": {},
   "source": [
    "As we can see from above, we have a ton of violation codes and other extraneous information that we do not need. To make the dataset more manageable to work with, we select only those columns with information about the violation levels, business name, and address so that we can join this with our review information."
   ]
  },
  {
   "cell_type": "code",
   "execution_count": 9,
   "metadata": {},
   "outputs": [],
   "source": [
    "# Task 2 Snippet B - Selecting our useful features and filtering by city\n",
    "tampa_health_df = health_df[health_df['LOC_CITY'] == 'TAMPA']\n",
    "tampa_health_selected_df = tampa_health_df[['DBA_NAME', 'LOC_ADDRESS', 'HIGH_VIOL', 'INTERMED_VIOL', 'BASIC_VIOL']]"
   ]
  },
  {
   "cell_type": "code",
   "execution_count": 10,
   "metadata": {},
   "outputs": [
    {
     "data": {
      "text/html": [
       "<div>\n",
       "<style scoped>\n",
       "    .dataframe tbody tr th:only-of-type {\n",
       "        vertical-align: middle;\n",
       "    }\n",
       "\n",
       "    .dataframe tbody tr th {\n",
       "        vertical-align: top;\n",
       "    }\n",
       "\n",
       "    .dataframe thead th {\n",
       "        text-align: right;\n",
       "    }\n",
       "</style>\n",
       "<table border=\"1\" class=\"dataframe\">\n",
       "  <thead>\n",
       "    <tr style=\"text-align: right;\">\n",
       "      <th></th>\n",
       "      <th>DBA_NAME</th>\n",
       "      <th>LOC_ADDRESS</th>\n",
       "      <th>HIGH_VIOL</th>\n",
       "      <th>INTERMED_VIOL</th>\n",
       "      <th>BASIC_VIOL</th>\n",
       "    </tr>\n",
       "  </thead>\n",
       "  <tbody>\n",
       "    <tr>\n",
       "      <th>29</th>\n",
       "      <td>SWEET TEA TIKI BAR</td>\n",
       "      <td>4601 N LOIS AVE</td>\n",
       "      <td>0.0</td>\n",
       "      <td>0.0</td>\n",
       "      <td>0.0</td>\n",
       "    </tr>\n",
       "    <tr>\n",
       "      <th>51</th>\n",
       "      <td>COUNTRYWAY GOLF CLUB</td>\n",
       "      <td>11111 WATERS AVE</td>\n",
       "      <td>0.0</td>\n",
       "      <td>1.0</td>\n",
       "      <td>1.0</td>\n",
       "    </tr>\n",
       "    <tr>\n",
       "      <th>111</th>\n",
       "      <td>CHARS JAMAICAN KITCHEN</td>\n",
       "      <td>5224 S DALE MABRY HWY</td>\n",
       "      <td>0.0</td>\n",
       "      <td>0.0</td>\n",
       "      <td>0.0</td>\n",
       "    </tr>\n",
       "    <tr>\n",
       "      <th>180</th>\n",
       "      <td>SABROSITO'S LLC</td>\n",
       "      <td>5011 W HILLSBOROUGH AVE STE A</td>\n",
       "      <td>0.0</td>\n",
       "      <td>3.0</td>\n",
       "      <td>4.0</td>\n",
       "    </tr>\n",
       "    <tr>\n",
       "      <th>249</th>\n",
       "      <td>DOMINO'S PIZZA</td>\n",
       "      <td>7104 EAST FOWLER AVENUE</td>\n",
       "      <td>0.0</td>\n",
       "      <td>0.0</td>\n",
       "      <td>0.0</td>\n",
       "    </tr>\n",
       "  </tbody>\n",
       "</table>\n",
       "</div>"
      ],
      "text/plain": [
       "                   DBA_NAME                    LOC_ADDRESS  HIGH_VIOL  \\\n",
       "29       SWEET TEA TIKI BAR                4601 N LOIS AVE        0.0   \n",
       "51     COUNTRYWAY GOLF CLUB               11111 WATERS AVE        0.0   \n",
       "111  CHARS JAMAICAN KITCHEN          5224 S DALE MABRY HWY        0.0   \n",
       "180         SABROSITO'S LLC  5011 W HILLSBOROUGH AVE STE A        0.0   \n",
       "249          DOMINO'S PIZZA        7104 EAST FOWLER AVENUE        0.0   \n",
       "\n",
       "     INTERMED_VIOL  BASIC_VIOL  \n",
       "29             0.0         0.0  \n",
       "51             1.0         1.0  \n",
       "111            0.0         0.0  \n",
       "180            3.0         4.0  \n",
       "249            0.0         0.0  "
      ]
     },
     "execution_count": 10,
     "metadata": {},
     "output_type": "execute_result"
    }
   ],
   "source": [
    "tampa_health_selected_df.head()"
   ]
  },
  {
   "cell_type": "code",
   "execution_count": 11,
   "metadata": {},
   "outputs": [
    {
     "data": {
      "image/png": "[encoded data removed]",
      "text/plain": [
       "<matplotlib.figure.Figure at 0x78c076a3a5c0>"
      ]
     },
     "metadata": {},
     "output_type": "display_data"
    }
   ],
   "source": [
    "# Task 2 Snippet C - Visualizing Violation Severity\n",
    "def classify_violation(row):\n",
    "    if row['HIGH_VIOL'] > 0:\n",
    "        return 'High'\n",
    "    elif row['INTERMED_VIOL'] > 0:\n",
    "        return 'Intermediate'\n",
    "    elif row['BASIC_VIOL'] > 0:\n",
    "        return 'Basic'\n",
    "    else:\n",
    "        return 'None'\n",
    "\n",
    "# Apply classification\n",
    "tampa_health_selected_df = tampa_health_selected_df.copy()\n",
    "tampa_health_selected_df.loc[:, 'Violation_Level'] = tampa_health_selected_df.apply(classify_violation, axis=1)\n",
    "\n",
    "# Get counts and plot\n",
    "violation_counts = tampa_health_selected_df['Violation_Level'].value_counts(normalize=True) * 100\n",
    "\n",
    "plt.figure(figsize=(8, 6))\n",
    "bars = plt.bar(violation_counts.index, violation_counts.values, color=['red', 'orange', 'yellowgreen', 'lightgray'])\n",
    "plt.title('Most Severe Violation per Business (Tampa)', fontsize=14)\n",
    "plt.ylabel('Percentage of Businesses (%)')\n",
    "plt.xlabel('Violation Severity')\n",
    "plt.ylim(0, 100)\n",
    "\n",
    "# Add percentage labels on top\n",
    "for bar in bars:\n",
    "    height = bar.get_height()\n",
    "    plt.text(bar.get_x() + bar.get_width()/2., height + 1, f'{height:.1f}%', ha='center', va='bottom', fontsize=10)\n",
    "\n",
    "plt.tight_layout()\n",
    "plt.show()"
   ]
  },
  {
   "cell_type": "markdown",
   "metadata": {},
   "source": [
    "<h3 style=\"color: orange;\">Cleaning Datasets Summary</h3>\n",
    "\n",
    "From our data exploration above, we can see 4 distinct classes of food service businesses emerge. These classes will help us better develop classifier models and, from what we have observed, serve the user of our models better than trying to distinguish between a binary *Pass / Fail* criteria. None of the health inspection data we have seen so clearly labels a business as passing or failing, so instead we seek to classify restaurants as follows:\n",
    "\n",
    "+ Likely to commit a Severe Violation\n",
    "+ Likely to commit an Moderate Violation\n",
    "+ Likely to commit a Basic Violation\n",
    "+ Not likely to commit a violation"
   ]
  },
  {
   "cell_type": "markdown",
   "metadata": {},
   "source": [
    "<h2 style=\"color: lightskyblue;\">III. Integrating and Joining Data</h2>\n",
    "\n",
    "Integrating and joining our data should be relatively straight-forward now that we have scaled our dataframes down to a more manageable size. We will again perform two tasks for this section:\n",
    "1. *Group By and Aggregation on each dataframe*  \n",
    "2. *Joining the dataframes together*"
   ]
  },
  {
   "cell_type": "markdown",
   "metadata": {},
   "source": [
    "<h3 style=\"color: orange;\">Task 1: Group By and Aggregation</h3>\n"
   ]
  },
  {
   "cell_type": "code",
   "execution_count": 12,
   "metadata": {},
   "outputs": [
    {
     "name": "stdout",
     "output_type": "stream",
     "text": [
      "Original row count: 148685\n",
      "Original row count: 2034\n"
     ]
    }
   ],
   "source": [
    "# Task 1 Snippet A - Group By and Aggregation over tampa_review_df\n",
    "aggregated_review_df = tampa_review_df.groupby('business_id').agg({\n",
    "    'stars_review': 'mean',\n",
    "    'text': ' '.join,\n",
    "    'address': 'first',\n",
    "    'name': 'first'\n",
    "}).rename(columns={\n",
    "    'stars_review': 'avg_stars',\n",
    "    'text': 'all_reviews'\n",
    "}).reset_index()\n",
    "print(f\"Original row count: {len(tampa_review_df)}\")\n",
    "print(f\"Original row count: {len(aggregated_review_df)}\")"
   ]
  },
  {
   "cell_type": "code",
   "execution_count": 13,
   "metadata": {},
   "outputs": [
    {
     "name": "stdout",
     "output_type": "stream",
     "text": [
      "Original row count: 6360\n",
      "Aggregated row count: 2977\n"
     ]
    }
   ],
   "source": [
    "# Task 1 Snippet B - Group By and Aggregation over tampa_health_selected_df\n",
    "severity_order = {\n",
    "    'High': 3,\n",
    "    'Intermediate': 2,\n",
    "    'Basic': 1,\n",
    "    'None': 0\n",
    "}\n",
    "tampa_health_selected_df['Severity_Score'] = tampa_health_selected_df['Violation_Level'].map(severity_order)\n",
    "\n",
    "original_count = len(tampa_health_selected_df)\n",
    "print(\"Original row count:\", original_count)\n",
    "\n",
    "max_severity_idx = tampa_health_selected_df.groupby(['DBA_NAME', 'LOC_ADDRESS'])['Severity_Score'].idxmax()\n",
    "\n",
    "aggregated_health_df = tampa_health_selected_df.loc[max_severity_idx]\n",
    "new_count = len(aggregated_health_df)\n",
    "print(\"Aggregated row count:\", new_count)"
   ]
  },
  {
   "cell_type": "markdown",
   "metadata": {},
   "source": [
    "<h3 style=\"color: orange;\">Task 2: Joining the Dataframes</h3>\n",
    "\n",
    "To join our dataframes, aggregated_review_df and aggregated_health_df, we need to first figure out how the addresses and business names are formatted. Following that we will apply some sort of fuzzy finding to get our final dataset to build our models with."
   ]
  },
  {
   "cell_type": "code",
   "execution_count": 14,
   "metadata": {
    "scrolled": false
   },
   "outputs": [
    {
     "name": "stdout",
     "output_type": "stream",
     "text": [
      "              business_id  avg_stars  \\\n",
      "0  --rS-rnOIZxoiDA8yctWpQ   5.000000   \n",
      "1  -1oygVebK81K8JEPI6H6Lw   3.986667   \n",
      "2  -2CPhK6ik9ZBgFX_F-dkxQ   1.800000   \n",
      "3  -2dvQxx3cYXd5XmFdDDsDA   2.370370   \n",
      "4  -2wh7NTLkWEgsrLJvilnFQ   4.416667   \n",
      "\n",
      "                                         all_reviews  \\\n",
      "0  Recommended by friends, we walked across the s...   \n",
      "1  Checked in, then checked out disappointed :( A...   \n",
      "2  Just your typical subway. This one is particul...   \n",
      "3  Worst (weak, watery 'Americanized & somehow bi...   \n",
      "4  The lamb gyro sandwich was cold once I receive...   \n",
      "\n",
      "                          address                                   name  \n",
      "0              555 Channelside Dr                Publix GreenWise Market  \n",
      "1              501 E Kennedy Blvd                      Bruegger's Bagels  \n",
      "2  14961 N Florida Ave, Ste 14961                                 Subway  \n",
      "3         4100 George J Bean Pkwy                             illy Caffè  \n",
      "4              8896 N Florida Ave  Istanbul Mediterranean Grill & Market  \n",
      "                         DBA_NAME             LOC_ADDRESS  HIGH_VIOL  \\\n",
      "124974     #1 PARCERITOS HOT DOGS      7730 PALM RIVER RD        0.0   \n",
      "37561           10 AND 10 ENOTECA  2223 N WESTSHORE BLVD         1.0   \n",
      "114916              103 STAND PDQ        4116 N HIMES AVE        0.0   \n",
      "114920           110 STAND GALLEY        4116 N HIMES AVE        0.0   \n",
      "32014   114 STAND CANNON FIRE BBQ        4116 N HIMES AVE        1.0   \n",
      "\n",
      "        INTERMED_VIOL  BASIC_VIOL Violation_Level  Severity_Score  \n",
      "124974            0.0         1.0           Basic               1  \n",
      "37561             2.0         3.0            High               3  \n",
      "114916            0.0         1.0           Basic               1  \n",
      "114920            0.0         1.0           Basic               1  \n",
      "32014             0.0         0.0            High               3  \n"
     ]
    }
   ],
   "source": [
    "# Task 2 Snippet A - Reviewing Dataframe Formats\n",
    "print(aggregated_review_df.head())\n",
    "print(aggregated_health_df.head())"
   ]
  },
  {
   "cell_type": "code",
   "execution_count": 15,
   "metadata": {},
   "outputs": [],
   "source": [
    "# Task 2 Snippet B - Fuzzy Finding and Joining the Dataframes\n",
    "def clean_string(s):\n",
    "    return re.sub(r'[^a-zA-Z0-9 ]', '', str(s).lower().strip())\n",
    "\n",
    "aggregated_review_df['match_key'] = ( aggregated_review_df['name'].apply(clean_string) + ' ' \n",
    "                                     + aggregated_review_df['address'].apply(clean_string) )\n",
    "aggregated_health_df['match_key'] = ( aggregated_health_df['DBA_NAME'].apply(clean_string) + ' '\n",
    "                                     + aggregated_health_df['LOC_ADDRESS'].apply(clean_string) )\n",
    "\n",
    "# Map closest health entry for each review entry\n",
    "matches = []\n",
    "\n",
    "# Goes through every row in the review_df comparing to each row in health_df\n",
    "for i, row in aggregated_review_df.iterrows():\n",
    "    match_string, score, _ = process.extractOne(\n",
    "        row['match_key'], \n",
    "        aggregated_health_df['match_key'], \n",
    "        scorer=fuzz.token_set_ratio\n",
    "    )\n",
    "    \n",
    "    if score >= 90:  # tune this threshold if needed\n",
    "        matched_row = aggregated_health_df[aggregated_health_df['match_key'] == match_string].iloc[0]\n",
    "        combined_row = row.to_dict()\n",
    "        for col in ['Violation_Level', 'Severity_Score', 'HIGH_VIOL', 'INTERMED_VIOL', 'BASIC_VIOL', 'DBA_NAME', 'LOC_ADDRESS']:\n",
    "            combined_row[col] = matched_row[col]\n",
    "        matches.append(combined_row)\n",
    "\n",
    "training_df = pd.DataFrame(matches)"
   ]
  },
  {
   "cell_type": "code",
   "execution_count": 16,
   "metadata": {},
   "outputs": [
    {
     "name": "stdout",
     "output_type": "stream",
     "text": [
      "632\n",
      "   BASIC_VIOL                DBA_NAME  HIGH_VIOL  INTERMED_VIOL  \\\n",
      "0         2.0       BRUEGGER'S BAGELS        1.0            2.0   \n",
      "1         3.0             ILLY CAFE E        0.0            2.0   \n",
      "2         9.0  ISTANBUL MEDITERRANEAN        0.0            3.0   \n",
      "3         0.0         CLEAN JUICE BAR        0.0            1.0   \n",
      "4         5.0         PIZZA HUT #4666        0.0            0.0   \n",
      "\n",
      "                                         LOC_ADDRESS  Severity_Score  \\\n",
      "0                              501 EAST KENNEDY BLVD               3   \n",
      "1  4100 GEORGE J BEAN PKWY, TAMPA INTERNATIONAL A...               2   \n",
      "2                              8896 N FLORIDA AVENUE               2   \n",
      "3                             13138 N DALE MABRY HWY               2   \n",
      "4                                    5263 EHRLICH RD               1   \n",
      "\n",
      "  Violation_Level                  address  \\\n",
      "0            High       501 E Kennedy Blvd   \n",
      "1    Intermediate  4100 George J Bean Pkwy   \n",
      "2    Intermediate       8896 N Florida Ave   \n",
      "3    Intermediate   13138 N Dale Mabry Hwy   \n",
      "4           Basic          5263 Ehrlich Rd   \n",
      "\n",
      "                                         all_reviews  avg_stars  \\\n",
      "0  Checked in, then checked out disappointed :( A...   3.986667   \n",
      "1  Worst (weak, watery 'Americanized & somehow bi...   2.370370   \n",
      "2  The lamb gyro sandwich was cold once I receive...   4.416667   \n",
      "3  Enjoyed both smoothies I had over the past few...   3.915789   \n",
      "4  I just had delivery from this location.  I am ...   2.857143   \n",
      "\n",
      "              business_id                                          match_key  \\\n",
      "0  -1oygVebK81K8JEPI6H6Lw                brueggers bagels 501 e kennedy blvd   \n",
      "1  -2dvQxx3cYXd5XmFdDDsDA                  illy caff 4100 george j bean pkwy   \n",
      "2  -2wh7NTLkWEgsrLJvilnFQ  istanbul mediterranean grill  market 8896 n fl...   \n",
      "3  -ExvxN1QHx4efMLm6PxJ4A     clean juice carrollwood 13138 n dale mabry hwy   \n",
      "4  -HWc5-NQLKBIIlBcDMfKCw                          pizza hut 5263 ehrlich rd   \n",
      "\n",
      "                                    name  \n",
      "0                      Bruegger's Bagels  \n",
      "1                             illy Caffè  \n",
      "2  Istanbul Mediterranean Grill & Market  \n",
      "3                Clean Juice Carrollwood  \n",
      "4                              Pizza Hut  \n"
     ]
    }
   ],
   "source": [
    "print(len(training_df))\n",
    "print(training_df.head())"
   ]
  },
  {
   "cell_type": "markdown",
   "metadata": {},
   "source": [
    "<h2 style=\"color: lightskyblue;\">IV. Selecting Relevant Features</h2>\n",
    "\n",
    "For this section, we will justify our decisions in dropping certain features during our data cleaning process as well as justify our final features that we have selected for model building."
   ]
  },
  {
   "cell_type": "code",
   "execution_count": 17,
   "metadata": {
    "scrolled": true
   },
   "outputs": [
    {
     "name": "stdout",
     "output_type": "stream",
     "text": [
      "Index(['business_id', 'cool', 'date', 'funny', 'review_id', 'stars_review',\n",
      "       'text', 'useful', 'user_id', 'address', 'attributes', 'categories',\n",
      "       'city', 'hours', 'is_open', 'latitude', 'longitude', 'name',\n",
      "       'postal_code', 'review_count', 'stars_business', 'state'],\n",
      "      dtype='object')\n",
      "Index(['DISTRICT', 'COUNTYCODE', 'CNTY_DESC', 'PROFESSION', 'LICENSE_NO',\n",
      "       'DBA_NAME', 'LOC_ADDRESS', 'LOC_CITY', 'LOC_ZIP', 'INSP_NO', 'VISIT_NO',\n",
      "       'INSPCLASS', 'INSPTYPE', 'DISPOSITION', 'INSP_DATE', 'CRIT_VIOL',\n",
      "       'NONCRIT_VIOL', 'VIOLATIONS', 'HIGH_VIOL', 'INTERMED_VIOL',\n",
      "       'BASIC_VIOL', 'HT_VIOL', 'PDA', 'V_01', 'V_02', 'V_03', 'V_04', 'V_05',\n",
      "       'V_06', 'V_07', 'V_08', 'V_09', 'V_10', 'V_11', 'V_12', 'V_13', 'V_14',\n",
      "       'V_15', 'V_16', 'V_17', 'V_18', 'V_19', 'V_20', 'V_21', 'V_22', 'V_23',\n",
      "       'V_24', 'V_25', 'V_26', 'V_27', 'V_28', 'V_29', 'V_30', 'V_31', 'V_32',\n",
      "       'V_33', 'V_34', 'V_35', 'V_36', 'V_37', 'V_38', 'V_39', 'V_40', 'V_41',\n",
      "       'V_42', 'V_43', 'V_44', 'V_45', 'V_46', 'V_47', 'V_48', 'V_49', 'V_50',\n",
      "       'V_51', 'V_52', 'V_53', 'V_54', 'V_55', 'V_56', 'V_57', 'V_58',\n",
      "       'LIC_ID', 'INSP_VST_ID'],\n",
      "      dtype='object')\n"
     ]
    }
   ],
   "source": [
    "# Section IV Snippet A - Our original dataframe columns after importing\n",
    "print(combined_df.columns)\n",
    "print(health_df.columns)"
   ]
  },
  {
   "cell_type": "markdown",
   "metadata": {},
   "source": [
    "<h3 style=\"color: orange;\">Dropped Features</h3>\n",
    "\n",
    "In our combined_df, which represents the business and review information, we are able to drop:\n",
    "\n",
    "+ Those features related to location which we have already set filters on to narrow down to just Tampa:\n",
    "\n",
    "$$\n",
    "\\text{categories, city, latitude, longitude, postal_code, state}\n",
    "$$\n",
    "\n",
    "+ Those features which have to do with internal metrics at Yelp / reactions to user reviews:\n",
    "\n",
    "$$\n",
    "\\text{cool, funny, review_id, useful, user_id, stars_business, review_count, date}\n",
    "$$\n",
    "\n",
    "+ And those features which deal with business attributes:\n",
    "\n",
    "$$\n",
    "\\text{hours, is_open, attributes}\n",
    "$$\n",
    "\n",
    "From these drops, we have only those columns left which will help us to identify the business and assess the likelihood of the business doing well or poorly on a health inspection.\n",
    "<br>\n",
    "\n",
    "In our health_df, which represents the results of health inspections, we are able to drop:\n",
    "\n",
    "+ All those features related to location which we do not need to join the dataset with the yelp review information.\n",
    "+ All of the health inspection office specific information. Violation codes, disposition, visit id, etc.\n",
    "\n",
    "We note that, in exploring the data as it came (.xlsx format) from the health department, we found that certain columns were completely unused ('CRIT_VIOL' for example). "
   ]
  },
  {
   "cell_type": "markdown",
   "metadata": {},
   "source": [
    "<h3 style=\"color: orange;\">Plausible Features Not Selected</h3>\n",
    "\n",
    "Worth discussing in a separate section are the features that were dropped above that may contribute to a more comprehensive model for researchers looking to investigate beyond NLP sentiment analysis and basic classification.\n",
    "\n",
    "In our combined_df:\n",
    "\n",
    "+ We acknowledge that latitude, longitude, and location information may contribute to a model that identifies pockets of likely violators geographically.\n",
    "+ Business hours and attributes like \"accepts credit cards\" may also indicate a more modern business / business that is more likely to maintain cleanliness.\n",
    "\n",
    "However, for our simple model constructions we are satisfied with stars and the corpus of review text we have.\n",
    "<br>\n",
    "\n",
    "In our health_df:\n",
    "\n",
    "+ The individual health inspection codes may help in classifying the businesses\n",
    "\n",
    "While it is beyond the scope of this project to look all of the codes up and import them, we do recognize that these individual codes may benefit model training."
   ]
  },
  {
   "cell_type": "code",
   "execution_count": 18,
   "metadata": {},
   "outputs": [
    {
     "name": "stdout",
     "output_type": "stream",
     "text": [
      "Index(['BASIC_VIOL', 'DBA_NAME', 'HIGH_VIOL', 'INTERMED_VIOL', 'LOC_ADDRESS',\n",
      "       'Severity_Score', 'Violation_Level', 'address', 'all_reviews',\n",
      "       'avg_stars', 'business_id', 'match_key', 'name'],\n",
      "      dtype='object')\n",
      "                                    name  avg_stars  \\\n",
      "0                      Bruegger's Bagels   3.986667   \n",
      "1                             illy Caffè   2.370370   \n",
      "2  Istanbul Mediterranean Grill & Market   4.416667   \n",
      "3                Clean Juice Carrollwood   3.915789   \n",
      "4                              Pizza Hut   2.857143   \n",
      "\n",
      "                                         all_reviews  Severity_Score  \n",
      "0  Checked in, then checked out disappointed :( A...               3  \n",
      "1  Worst (weak, watery 'Americanized & somehow bi...               2  \n",
      "2  The lamb gyro sandwich was cold once I receive...               2  \n",
      "3  Enjoyed both smoothies I had over the past few...               2  \n",
      "4  I just had delivery from this location.  I am ...               1  \n"
     ]
    }
   ],
   "source": [
    "# Section IV Snippet B - Final Feature Selection\n",
    "print(training_df.columns)\n",
    "final_training_set = training_df[['name', 'avg_stars', 'all_reviews', 'Severity_Score']]\n",
    "print(final_training_set.head())"
   ]
  },
  {
   "cell_type": "markdown",
   "metadata": {},
   "source": [
    "<h2 style=\"color: lightskyblue;\">V. Data Transformation</h2>\n",
    "\n",
    "In order to mine interesting patterns from our dataset and construct models from those patterns that present themselves, we must transform our data into a more usable form. Specifically, we want to explore the review data in a bit more detail and examine the prevalence of positive / negative reviews in our data set. For our first 2 tasks, we seek to classify reviews as good or bad. For our third task, we apply TF-IDF and combine our extracted features with our avg_stars feature to give us a single feature matrix. \n",
    "1. *Review Exploration and Good Reviews* \n",
    "2. *Bad Reviews and Classification of Reviews*\n",
    "3. *TF-IDF and Feature Matrix Construction*"
   ]
  },
  {
   "cell_type": "markdown",
   "metadata": {},
   "source": [
    "<h3 style=\"color: orange;\">Task 1: Review Exploration and Good Reviews</h3>\n"
   ]
  },
  {
   "cell_type": "code",
   "execution_count": null,
   "metadata": {},
   "outputs": [],
   "source": [
    "# Task 1 Snippet A - Construction of Reviews dataframe\n",
    "reviews = pd.DataFrame(filtered_reviews)\n",
    "reviews.date = pd.to_datetime(reviews.date)\n",
    "print(\"The first recorded date:\", reviews.date.min())\n",
    "print(\"The most recent date:\", reviews.date.max())"
   ]
  },
  {
   "cell_type": "code",
   "execution_count": null,
   "metadata": {
    "scrolled": true
   },
   "outputs": [],
   "source": [
    "# Task 1 Snippet B - Good Reviews\n",
    "import nltk\n",
    "\n",
    "nltk.download('punkt')\n",
    "\n",
    "positive_keywords = {'good', 'great', 'excellent', 'amazing', 'awesome', 'fantastic', 'love', 'wonderful', 'best'}\n",
    "\n",
    "def get_good_reviews(tokens):\n",
    "    tokens_lower = [t.lower() for t in tokens]\n",
    "    return any(word in tokens_lower for word in positive_keywords)\n",
    "\n",
    "good_reviews = []\n",
    "rev_count = 0\n",
    "\n",
    "with open('filtered_reviews.json', 'r', encoding='utf-8') as fin:\n",
    "    for line in fin:\n",
    "        rev_count += 1\n",
    "        review = json.loads(line)\n",
    "        text = review.get('text', '')\n",
    "        tokens = nltk.word_tokenize(text)\n",
    "        if get_good_reviews(tokens):\n",
    "            good_reviews.append(review)\n",
    "\n",
    "# Print or save good_reviews as needed\n",
    "print(f'Total Reviews: {rev_count}')\n",
    "print(f'Number of good reviews: {len(good_reviews)}')"
   ]
  },
  {
   "cell_type": "markdown",
   "metadata": {},
   "source": [
    "<h3 style=\"color: orange;\">Task 2: Bad Reviews and Classification of Reviews</h3>\n"
   ]
  },
  {
   "cell_type": "code",
   "execution_count": null,
   "metadata": {},
   "outputs": [],
   "source": [
    "# Task 2 Snippet A - Bad Reviews\n",
    "negative_keywords = {'bad', 'terrible', 'awful', 'worst', 'poor', 'disappointing', 'horrible', 'hate', 'boring', 'mediocre'}\n",
    "\n",
    "def get_bad_review(tokens):\n",
    "    tokens_lower = [t.lower() for t in tokens]\n",
    "    return any(word in tokens_lower for word in negative_keywords)\n",
    "\n",
    "bad_reviews = []\n",
    "\n",
    "with open('filtered_reviews.json', 'r', encoding='utf-8') as fin:\n",
    "    for line in fin:\n",
    "        review = json.loads(line)\n",
    "        text = review.get('text', '')\n",
    "        tokens = nltk.word_tokenize(text)\n",
    "        if get_bad_review(tokens):\n",
    "            bad_reviews.append(review)\n",
    "\n",
    "# Print or save bad_reviews as needed\n",
    "print(f'Number of bad reviews: {len(bad_reviews)}')"
   ]
  },
  {
   "cell_type": "code",
   "execution_count": null,
   "metadata": {},
   "outputs": [],
   "source": [
    "# Task 2 Snippet B - Classifying Reviews\n",
    "positive_keywords = {'good', 'great', 'excellent', 'amazing', 'awesome', 'fantastic', 'love', 'wonderful', 'best'}\n",
    "negative_keywords = {'bad', 'terrible', 'awful', 'worst', 'poor', 'disappointing', 'horrible', 'hate', 'boring', 'mediocre'}\n",
    "\n",
    "def classify_review(tokens):\n",
    "    tokens_lower = [t.lower() for t in tokens]\n",
    "    if any(word in tokens_lower for word in positive_keywords):\n",
    "        return 'good'\n",
    "    elif any(word in tokens_lower for word in negative_keywords):\n",
    "        return 'bad'\n",
    "    else:\n",
    "        return 'neutral'\n",
    "\n",
    "classified_reviews = []\n",
    "\n",
    "with open('filtered_reviews.json', 'r', encoding='utf-8') as fin:\n",
    "    for line in fin:\n",
    "        review = json.loads(line)\n",
    "        text = review.get('text', '')\n",
    "        tokens = nltk.word_tokenize(text)\n",
    "        label = classify_review(tokens)\n",
    "        review['label'] = label\n",
    "        classified_reviews.append(review)\n",
    "\n",
    "# Save classified reviews to a new file\n",
    "with open('classified_reviews.json', 'w', encoding='utf-8') as fout:\n",
    "    for review in classified_reviews:\n",
    "        fout.write(json.dumps(review) + '\\n')\n"
   ]
  },
  {
   "cell_type": "markdown",
   "metadata": {},
   "source": [
    "<h3 style=\"color: orange;\">Task 3: TF-IDF and Feature Matrix Construction</h3>\n"
   ]
  },
  {
   "cell_type": "code",
   "execution_count": 19,
   "metadata": {},
   "outputs": [],
   "source": [
    "# Task 3 Snippet A - TF/IDF to extract text features from reviews\n",
    "from sklearn.feature_extraction.text import TfidfVectorizer\n",
    "\n",
    "tfidf = TfidfVectorizer(stop_words='english', max_features=1000, ngram_range=(1, 2))\n",
    "X_text = tfidf.fit_transform(final_training_set['all_reviews'])"
   ]
  },
  {
   "cell_type": "code",
   "execution_count": 20,
   "metadata": {},
   "outputs": [],
   "source": [
    "# Task 3 Snippet B - Construction of Feature Matrix\n",
    "from scipy.sparse import hstack\n",
    "import numpy as np\n",
    "\n",
    "X_stars = final_training_set['avg_stars'].values.reshape(-1, 1)\n",
    "X = hstack([X_text, X_stars])\n",
    "y = final_training_set['Severity_Score']"
   ]
  },
  {
   "cell_type": "markdown",
   "metadata": {},
   "source": [
    "<h2 style=\"color: lightskyblue;\">VI. Data Mining</h2>\n",
    "\n",
    "From our Data Transformation section, we explored the presence of negative and positive words to classify review sentiment. We now take these mined patterns and apply them to add features to our feature matrix.\n",
    "1. *Adding Negative Word Feature*  \n",
    "2. *Adding Positive Word Feature*"
   ]
  },
  {
   "cell_type": "markdown",
   "metadata": {},
   "source": [
    "<h3 style=\"color: orange;\">Task 1: Adding Negative Word Feature</h3>\n"
   ]
  },
  {
   "cell_type": "code",
   "execution_count": 21,
   "metadata": {
    "collapsed": true
   },
   "outputs": [
    {
     "name": "stderr",
     "output_type": "stream",
     "text": [
      "/usr/lib/python3/dist-packages/ipykernel_launcher.py:12: SettingWithCopyWarning: \n",
      "A value is trying to be set on a copy of a slice from a DataFrame.\n",
      "Try using .loc[row_indexer,col_indexer] = value instead\n",
      "\n",
      "See the caveats in the documentation: http://pandas.pydata.org/pandas-docs/stable/indexing.html#indexing-view-versus-copy\n",
      "  if sys.path[0] == '':\n"
     ]
    }
   ],
   "source": [
    "# Task 1 Snippet A - Negative word feature\n",
    "negative_keywords = [\n",
    "    'bad', 'terrible', 'awful', 'worst', 'poor',\n",
    "    'disappointing', 'horrible', 'hate', 'boring', 'mediocre'\n",
    "]\n",
    "\n",
    "def contains_negative_words(text, keywords):\n",
    "    text = text.lower()\n",
    "    return int(any(word in text for word in keywords))\n",
    "\n",
    "final_training_set['has_negative_words'] = final_training_set['all_reviews'].apply(\n",
    "    lambda x: contains_negative_words(x, negative_keywords)\n",
    ")"
   ]
  },
  {
   "cell_type": "markdown",
   "metadata": {},
   "source": [
    "<h3 style=\"color: orange;\">Task 2: Adding Positive Word Feature</h3>\n"
   ]
  },
  {
   "cell_type": "code",
   "execution_count": 22,
   "metadata": {
    "collapsed": true
   },
   "outputs": [
    {
     "name": "stderr",
     "output_type": "stream",
     "text": [
      "/usr/lib/python3/dist-packages/ipykernel_launcher.py:12: SettingWithCopyWarning: \n",
      "A value is trying to be set on a copy of a slice from a DataFrame.\n",
      "Try using .loc[row_indexer,col_indexer] = value instead\n",
      "\n",
      "See the caveats in the documentation: http://pandas.pydata.org/pandas-docs/stable/indexing.html#indexing-view-versus-copy\n",
      "  if sys.path[0] == '':\n"
     ]
    }
   ],
   "source": [
    "# Task 2 Snippet A - Positive word feature\n",
    "positive_keywords = [\n",
    "    'good', 'great', 'excellent', 'amazing', 'awesome',\n",
    "    'fantastic', 'love', 'wonderful', 'best'\n",
    "]\n",
    "\n",
    "def contains_positive_words(text, keywords):\n",
    "    text = text.lower()\n",
    "    return int(any(word in text for word in keywords))\n",
    "\n",
    "final_training_set['has_positive_words'] = final_training_set['all_reviews'].apply(\n",
    "    lambda x: contains_positive_words(x, positive_keywords)\n",
    ")"
   ]
  },
  {
   "cell_type": "code",
   "execution_count": 23,
   "metadata": {},
   "outputs": [],
   "source": [
    "# Task 2 Snippet B - Constructing Final Feature Matrix\n",
    "X_neg = final_training_set['has_negative_words'].values.reshape(-1, 1)\n",
    "X_pos = final_training_set['has_positive_words'].values.reshape(-1, 1)\n",
    "XFinal = hstack([X_text, X_stars, X_neg, X_pos])"
   ]
  },
  {
   "cell_type": "markdown",
   "metadata": {},
   "source": [
    "<h2 style=\"color: lightskyblue;\">VII. Pattern Evaluation and Model Construction</h2>\n",
    "\n",
    "We will be constructing three models to evaluate our patterns and model our problem:\n",
    "1. *Logistic Regression*  \n",
    "2. *Random Forest*\n",
    "3. *Naive Bayes (Multinomial)*"
   ]
  },
  {
   "cell_type": "markdown",
   "metadata": {},
   "source": [
    "<h3 style=\"color: orange;\">Task 1: Logistic Regression</h3>\n"
   ]
  },
  {
   "cell_type": "code",
   "execution_count": 24,
   "metadata": {},
   "outputs": [],
   "source": [
    "# Task 1 Snippet A - Importing sklearn modules and setting up training\n",
    "from sklearn.model_selection import train_test_split\n",
    "from sklearn.metrics import accuracy_score, classification_report, confusion_matrix\n",
    "\n",
    "X_train, X_test, y_train, y_test = train_test_split(\n",
    "    XFinal, final_training_set['Severity_Score'], test_size=0.2, random_state=42\n",
    ")\n"
   ]
  },
  {
   "cell_type": "code",
   "execution_count": 25,
   "metadata": {},
   "outputs": [
    {
     "name": "stdout",
     "output_type": "stream",
     "text": [
      "Logistic Regression\n",
      "             precision    recall  f1-score   support\n",
      "\n",
      "          0       0.00      0.00      0.00         2\n",
      "          1       0.00      0.00      0.00         5\n",
      "          2       0.00      0.00      0.00        29\n",
      "          3       0.72      1.00      0.84        91\n",
      "\n",
      "avg / total       0.52      0.72      0.60       127\n",
      "\n"
     ]
    },
    {
     "name": "stderr",
     "output_type": "stream",
     "text": [
      "/usr/lib/python3/dist-packages/sklearn/metrics/classification.py:1135: UndefinedMetricWarning: Precision and F-score are ill-defined and being set to 0.0 in labels with no predicted samples.\n",
      "  'precision', 'predicted', average, warn_for)\n"
     ]
    }
   ],
   "source": [
    "# Task 1 Snippet B - Logistic Regression model construction\n",
    "from sklearn.linear_model import LogisticRegression\n",
    "\n",
    "logreg = LogisticRegression(max_iter=1000)\n",
    "logreg.fit(X_train, y_train)\n",
    "y_pred_logreg = logreg.predict(X_test)\n",
    "\n",
    "print(\"Logistic Regression\")\n",
    "print(classification_report(y_test, y_pred_logreg))"
   ]
  },
  {
   "cell_type": "markdown",
   "metadata": {},
   "source": [
    "<h3 style=\"color: orange;\">Task 2: Random Forest</h3>\n"
   ]
  },
  {
   "cell_type": "code",
   "execution_count": 26,
   "metadata": {},
   "outputs": [],
   "source": [
    "# Task 2 Snippet A - Random Forest training setup\n",
    "X_train_dense = X_train.toarray()\n",
    "X_test_dense = X_test.toarray()"
   ]
  },
  {
   "cell_type": "code",
   "execution_count": 27,
   "metadata": {},
   "outputs": [
    {
     "name": "stdout",
     "output_type": "stream",
     "text": [
      "Random Forest\n",
      "             precision    recall  f1-score   support\n",
      "\n",
      "          0       0.00      0.00      0.00         2\n",
      "          1       0.00      0.00      0.00         5\n",
      "          2       0.50      0.03      0.06        29\n",
      "          3       0.72      0.99      0.83        91\n",
      "\n",
      "avg / total       0.63      0.72      0.61       127\n",
      "\n"
     ]
    },
    {
     "name": "stderr",
     "output_type": "stream",
     "text": [
      "/usr/lib/python3/dist-packages/sklearn/metrics/classification.py:1135: UndefinedMetricWarning: Precision and F-score are ill-defined and being set to 0.0 in labels with no predicted samples.\n",
      "  'precision', 'predicted', average, warn_for)\n"
     ]
    }
   ],
   "source": [
    "# Task 2 Snippet B - Random Forest Model construction\n",
    "from sklearn.ensemble import RandomForestClassifier\n",
    "\n",
    "rf = RandomForestClassifier(n_estimators=100, random_state=42)\n",
    "rf.fit(X_train_dense, y_train)\n",
    "y_pred_rf = rf.predict(X_test_dense)\n",
    "\n",
    "print(\"Random Forest\")\n",
    "print(classification_report(y_test, y_pred_rf))\n"
   ]
  },
  {
   "cell_type": "markdown",
   "metadata": {},
   "source": [
    "<h3 style=\"color: orange;\">Task 3: Naive Bayes</h3>\n"
   ]
  },
  {
   "cell_type": "code",
   "execution_count": 28,
   "metadata": {},
   "outputs": [
    {
     "name": "stdout",
     "output_type": "stream",
     "text": [
      "Naive Bayes\n",
      "             precision    recall  f1-score   support\n",
      "\n",
      "          0       0.00      0.00      0.00         2\n",
      "          1       0.00      0.00      0.00         5\n",
      "          2       0.00      0.00      0.00        29\n",
      "          3       0.72      1.00      0.83        91\n",
      "\n",
      "avg / total       0.51      0.72      0.60       127\n",
      "\n"
     ]
    },
    {
     "name": "stderr",
     "output_type": "stream",
     "text": [
      "/usr/lib/python3/dist-packages/sklearn/metrics/classification.py:1135: UndefinedMetricWarning: Precision and F-score are ill-defined and being set to 0.0 in labels with no predicted samples.\n",
      "  'precision', 'predicted', average, warn_for)\n"
     ]
    }
   ],
   "source": [
    "# Task 3 Snippet A - Naive Bayes model construction\n",
    "from sklearn.naive_bayes import MultinomialNB\n",
    "\n",
    "nb = MultinomialNB()\n",
    "nb.fit(X_train, y_train)\n",
    "y_pred_nb = nb.predict(X_test)\n",
    "\n",
    "print(\"Naive Bayes\")\n",
    "print(classification_report(y_test, y_pred_nb))"
   ]
  },
  {
   "cell_type": "markdown",
   "metadata": {},
   "source": [
    "<h2 style=\"color: lightskyblue;\">VIII. Model Performance and Analysis</h2>\n",
    "\n",
    "To assess our model performance, we display the confusion matrices for each model and have found that the Random Forest is the best model as it is more robust to feature interactions and improved recall slightly on Class 2. <br>\n",
    "Future improvements could be made to our basic model construction here in the form of resampling strategies, additional features to add to our feature matrix, and more robust modeling and classification methods."
   ]
  },
  {
   "cell_type": "code",
   "execution_count": 29,
   "metadata": {},
   "outputs": [],
   "source": [
    "# Section VIII Snippet A - Confusion Matrix Plotting Function\n",
    "def plot_confusion_matrix(y_true, y_pred, title):\n",
    "    cm = confusion_matrix(y_true, y_pred)\n",
    "    classes = sorted(np.unique(y_true))\n",
    "    \n",
    "    fig, ax = plt.subplots()\n",
    "    im = ax.imshow(cm, cmap='Blues')\n",
    "\n",
    "    # Show labels\n",
    "    ax.set_xticks(np.arange(len(classes)))\n",
    "    ax.set_yticks(np.arange(len(classes)))\n",
    "    ax.set_xticklabels(classes)\n",
    "    ax.set_yticklabels(classes)\n",
    "    ax.set_xlabel('Predicted')\n",
    "    ax.set_ylabel('Actual')\n",
    "    plt.title(f\"Confusion Matrix: {title}\")\n",
    "\n",
    "    # Annotate cells\n",
    "    for i in range(len(classes)):\n",
    "        for j in range(len(classes)):\n",
    "            ax.text(j, i, cm[i, j], ha=\"center\", va=\"center\", color=\"black\")\n",
    "\n",
    "    plt.colorbar(im)\n",
    "    plt.tight_layout()\n",
    "    plt.show()\n"
   ]
  },
  {
   "cell_type": "code",
   "execution_count": 30,
   "metadata": {},
   "outputs": [
    {
     "name": "stdout",
     "output_type": "stream",
     "text": [
      "Logistic Regression\n",
      "             precision    recall  f1-score   support\n",
      "\n",
      "          0       0.00      0.00      0.00         2\n",
      "          1       0.00      0.00      0.00         5\n",
      "          2       0.00      0.00      0.00        29\n",
      "          3       0.72      1.00      0.84        91\n",
      "\n",
      "avg / total       0.52      0.72      0.60       127\n",
      "\n"
     ]
    },
    {
     "name": "stderr",
     "output_type": "stream",
     "text": [
      "/usr/lib/python3/dist-packages/sklearn/metrics/classification.py:1135: UndefinedMetricWarning: Precision and F-score are ill-defined and being set to 0.0 in labels with no predicted samples.\n",
      "  'precision', 'predicted', average, warn_for)\n"
     ]
    },
    {
     "data": {
      "image/png": "[encoded data removed]",
      "text/plain": [
       "<matplotlib.figure.Figure at 0x78c0684a8860>"
      ]
     },
     "metadata": {},
     "output_type": "display_data"
    },
    {
     "name": "stdout",
     "output_type": "stream",
     "text": [
      "Random Forest\n",
      "             precision    recall  f1-score   support\n",
      "\n",
      "          0       0.00      0.00      0.00         2\n",
      "          1       0.00      0.00      0.00         5\n",
      "          2       0.50      0.03      0.06        29\n",
      "          3       0.72      0.99      0.83        91\n",
      "\n",
      "avg / total       0.63      0.72      0.61       127\n",
      "\n"
     ]
    },
    {
     "data": {
      "image/png": "[encoded data removed]",
      "text/plain": [
       "<matplotlib.figure.Figure at 0x78c0684a84a8>"
      ]
     },
     "metadata": {},
     "output_type": "display_data"
    },
    {
     "name": "stdout",
     "output_type": "stream",
     "text": [
      "Naive Bayes\n",
      "             precision    recall  f1-score   support\n",
      "\n",
      "          0       0.00      0.00      0.00         2\n",
      "          1       0.00      0.00      0.00         5\n",
      "          2       0.00      0.00      0.00        29\n",
      "          3       0.72      1.00      0.83        91\n",
      "\n",
      "avg / total       0.51      0.72      0.60       127\n",
      "\n"
     ]
    },
    {
     "data": {
      "image/png": "[encoded data removed]",
      "text/plain": [
       "<matplotlib.figure.Figure at 0x78c07189a438>"
      ]
     },
     "metadata": {},
     "output_type": "display_data"
    }
   ],
   "source": [
    "# Section VIII Snippet B - Model Evaluation through Confusion Matrix Plotting\n",
    "print(\"Logistic Regression\")\n",
    "print(classification_report(y_test, y_pred_logreg))\n",
    "plot_confusion_matrix(y_test, y_pred_logreg, \"Logistic Regression\")\n",
    "\n",
    "print(\"Random Forest\")\n",
    "print(classification_report(y_test, y_pred_rf))\n",
    "plot_confusion_matrix(y_test, y_pred_rf, \"Random Forest\")\n",
    "\n",
    "print(\"Naive Bayes\")\n",
    "print(classification_report(y_test, y_pred_nb))\n",
    "plot_confusion_matrix(y_test, y_pred_nb, \"Naive Bayes\")\n",
    "\n"
   ]
  }
 ],
 "metadata": {
  "kernelspec": {
   "display_name": "Python 3",
   "language": "python",
   "name": "python3"
  },
  "language_info": {
   "codemirror_mode": {
    "name": "ipython",
    "version": 3
   },
   "file_extension": ".py",
   "mimetype": "text/x-python",
   "name": "python",
   "nbconvert_exporter": "python",
   "pygments_lexer": "ipython3",
   "version": "3.6.9"
  }
 },
 "nbformat": 4,
 "nbformat_minor": 5
}
