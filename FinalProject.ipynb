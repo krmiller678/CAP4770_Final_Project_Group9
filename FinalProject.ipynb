{
 "cells": [
  {
   "cell_type": "markdown",
   "metadata": {},
   "source": [
    "## Predicting Restaurant Health Inspection Scores Using Yelp Reviews\n",
    "\n",
    "<h2 style=\"color: lightskyblue;\">I. Introduction</h2>\n",
    "\n",
    "The objective of our project is to apply data science techniques from our Intro to Data Science Course in order to build out models that can accurately predict health inspection outcomes for restaurants in a given area. We aim to combine Natural Language Processing of review text for sentiment analysis with structured meta data to construct these predictive models. <br><br>\n",
    "In order to best explore our data, we will follow the *Knowledge Discovery from Data* approach. Namely, we seek to:\n",
    "+ Clean the selected datasets to remove noise\n",
    "+ Integrate and join data from  two sources (Yelp Academic Dataset and Select City Health Scores)\n",
    "+ Select the relevant data from our constructed dataset for analysis\n",
    "+ Transform our data into a usable form for mining\n",
    "+ Mine our data to find interesting patterns\n",
    "+ Evaluate our patterns based on interestingness to construct our models\n",
    "+ Present our mined knowledge and models to positively impact the consumers ability to recognize safe restaurants"
   ]
  },
  {
   "cell_type": "code",
   "execution_count": 1,
   "metadata": {},
   "outputs": [],
   "source": [
    "# Code Snippet 1 - Importing libraries to be used throughout notebook\n",
    "import json\n",
    "import pandas as pd\n",
    "import matplotlib.pyplot as plt"
   ]
  },
  {
   "cell_type": "markdown",
   "metadata": {},
   "source": [
    "<h2 style=\"color: lightskyblue;\">II. Cleaning Selected Datasets</h2>\n",
    "\n",
    "To clean our data sets and prepare them for joining so that we may build out our classification models, we pursue 2 tasks:\n",
    "1. *Cleaning our Yelp data*\n",
    "2. *Cleaning our City health inspection data*"
   ]
  },
  {
   "cell_type": "markdown",
   "metadata": {},
   "source": [
    "<h3 style=\"color: orange;\">Task 1: Cleaning Yelp Data</h3>\n",
    "\n",
    "We begin our data analysis process by working with our Yelp dataset in JSON format in order to clean the data and bring it down to a workable size. Our selected city for analysis is Tampa as both the Yelp and Health Department data are well populated. <br><br>\n",
    "**NOTE** - Due to the large size of the datasets being operated upon, we have not included them in our repository. Please visit https://www.yelp.com/dataset if you wish to run this analysis locally and ensure that the following files are placed in the raw_datasets directory after cloning.\n",
    "+ *yelp_academic_dataset_business.json*\n",
    "+ *yelp_academic_dataset_review.json*"
   ]
  },
  {
   "cell_type": "code",
   "execution_count": 2,
   "metadata": {},
   "outputs": [],
   "source": [
    "# Task 1 Snippet A - Cleaning the Business IDs\n",
    "\n",
    "target_city = \"Tampa\"\n",
    "target_state = \"FL\"\n",
    "business_ids = set()\n",
    "filtered_businesses = []\n",
    "\n",
    "with open('./raw_datasets/yelp_academic_dataset_business.json', 'r', encoding = 'utf-8') as f:\n",
    "    for line in f:\n",
    "        data = json.loads(line)\n",
    "        if data.get('city') == target_city and data.get('state') == target_state:\n",
    "            filtered_businesses.append(data)\n",
    "            business_ids.add(data['business_id'])\n",
    "\n",
    "# Save filtered businesses\n",
    "with open('filtered_business.json', 'w', encoding='utf-8') as f:\n",
    "    for b in filtered_businesses:\n",
    "        f.write(json.dumps(b) + '\\n')"
   ]
  },
  {
   "cell_type": "markdown",
   "metadata": {},
   "source": [
    "**NOTE** - In your directory, you can now see the result of this script as our *filtered_business.json* file."
   ]
  },
  {
   "cell_type": "code",
   "execution_count": 3,
   "metadata": {},
   "outputs": [],
   "source": [
    "# Task 1 Snippet B - Filtering the Reviews\n",
    "filtered_reviews = []\n",
    "\n",
    "with open('./raw_datasets/yelp_academic_dataset_review.json', 'r', encoding='utf-8') as f:\n",
    "    for i, line in enumerate(f):\n",
    "        data = json.loads(line)\n",
    "        if data['business_id'] in business_ids:\n",
    "            filtered_reviews.append(data)\n",
    "\n",
    "with open('filtered_reviews.json', 'w', encoding='utf-8') as f:\n",
    "    for r in filtered_reviews:\n",
    "        f.write(json.dumps(r) + '\\n')"
   ]
  },
  {
   "cell_type": "markdown",
   "metadata": {},
   "source": [
    "**NOTE** - In your directory, you can now see the result of this script as our *filtered_reviews.json* file."
   ]
  },
  {
   "cell_type": "code",
   "execution_count": 4,
   "metadata": {
    "scrolled": true
   },
   "outputs": [
    {
     "data": {
      "text/html": [
       "<div>\n",
       "<style scoped>\n",
       "    .dataframe tbody tr th:only-of-type {\n",
       "        vertical-align: middle;\n",
       "    }\n",
       "\n",
       "    .dataframe tbody tr th {\n",
       "        vertical-align: top;\n",
       "    }\n",
       "\n",
       "    .dataframe thead th {\n",
       "        text-align: right;\n",
       "    }\n",
       "</style>\n",
       "<table border=\"1\" class=\"dataframe\">\n",
       "  <thead>\n",
       "    <tr style=\"text-align: right;\">\n",
       "      <th></th>\n",
       "      <th>stars_review</th>\n",
       "      <th>text</th>\n",
       "      <th>name</th>\n",
       "      <th>categories</th>\n",
       "    </tr>\n",
       "  </thead>\n",
       "  <tbody>\n",
       "    <tr>\n",
       "      <th>0</th>\n",
       "      <td>5.0</td>\n",
       "      <td>My experience with Shalimar was nothing but wo...</td>\n",
       "      <td>Shalimar Fine Jewelers</td>\n",
       "      <td>Shopping, Jewelry</td>\n",
       "    </tr>\n",
       "    <tr>\n",
       "      <th>1</th>\n",
       "      <td>4.0</td>\n",
       "      <td>Very helpful and patient.  20\" 14k gold chain ...</td>\n",
       "      <td>Shalimar Fine Jewelers</td>\n",
       "      <td>Shopping, Jewelry</td>\n",
       "    </tr>\n",
       "    <tr>\n",
       "      <th>2</th>\n",
       "      <td>5.0</td>\n",
       "      <td>They were all very easy to work with and went ...</td>\n",
       "      <td>Shalimar Fine Jewelers</td>\n",
       "      <td>Shopping, Jewelry</td>\n",
       "    </tr>\n",
       "    <tr>\n",
       "      <th>3</th>\n",
       "      <td>1.0</td>\n",
       "      <td>They have forever lost my business. Ordered a ...</td>\n",
       "      <td>Shalimar Fine Jewelers</td>\n",
       "      <td>Shopping, Jewelry</td>\n",
       "    </tr>\n",
       "    <tr>\n",
       "      <th>4</th>\n",
       "      <td>1.0</td>\n",
       "      <td>please dont go here they have bullshit gold th...</td>\n",
       "      <td>Shalimar Fine Jewelers</td>\n",
       "      <td>Shopping, Jewelry</td>\n",
       "    </tr>\n",
       "  </tbody>\n",
       "</table>\n",
       "</div>"
      ],
      "text/plain": [
       "   stars_review                                               text  \\\n",
       "0           5.0  My experience with Shalimar was nothing but wo...   \n",
       "1           4.0  Very helpful and patient.  20\" 14k gold chain ...   \n",
       "2           5.0  They were all very easy to work with and went ...   \n",
       "3           1.0  They have forever lost my business. Ordered a ...   \n",
       "4           1.0  please dont go here they have bullshit gold th...   \n",
       "\n",
       "                     name         categories  \n",
       "0  Shalimar Fine Jewelers  Shopping, Jewelry  \n",
       "1  Shalimar Fine Jewelers  Shopping, Jewelry  \n",
       "2  Shalimar Fine Jewelers  Shopping, Jewelry  \n",
       "3  Shalimar Fine Jewelers  Shopping, Jewelry  \n",
       "4  Shalimar Fine Jewelers  Shopping, Jewelry  "
      ]
     },
     "execution_count": 4,
     "metadata": {},
     "output_type": "execute_result"
    }
   ],
   "source": [
    "# Task 1 Snippet C - Importing reviews and business IDs as a data frame to clean unused columns\n",
    "\n",
    "def load_json_lines(filename):\n",
    "    with open(filename, 'r', encoding='utf-8') as f:\n",
    "        return pd.DataFrame([json.loads(line) for line in f])\n",
    "\n",
    "business_df = load_json_lines('filtered_business.json')\n",
    "review_df = load_json_lines('filtered_reviews.json')\n",
    "\n",
    "# Join on business_id\n",
    "combined_df = review_df.merge(business_df, on='business_id', suffixes=('_review', '_business'))\n",
    "\n",
    "combined_df[['stars_review', 'text', 'name', 'categories']].head()"
   ]
  },
  {
   "cell_type": "code",
   "execution_count": 42,
   "metadata": {
    "scrolled": false
   },
   "outputs": [
    {
     "name": "stdout",
     "output_type": "stream",
     "text": [
      "Index(['business_id', 'cool', 'date', 'funny', 'review_id', 'stars_review',\n",
      "       'text', 'useful', 'user_id', 'address', 'attributes', 'categories',\n",
      "       'city', 'hours', 'is_open', 'latitude', 'longitude', 'name',\n",
      "       'postal_code', 'review_count', 'stars_business', 'state'],\n",
      "      dtype='object')\n"
     ]
    },
    {
     "data": {
      "text/html": [
       "<div>\n",
       "<style scoped>\n",
       "    .dataframe tbody tr th:only-of-type {\n",
       "        vertical-align: middle;\n",
       "    }\n",
       "\n",
       "    .dataframe tbody tr th {\n",
       "        vertical-align: top;\n",
       "    }\n",
       "\n",
       "    .dataframe thead th {\n",
       "        text-align: right;\n",
       "    }\n",
       "</style>\n",
       "<table border=\"1\" class=\"dataframe\">\n",
       "  <thead>\n",
       "    <tr style=\"text-align: right;\">\n",
       "      <th></th>\n",
       "      <th>business_id</th>\n",
       "      <th>stars_review</th>\n",
       "      <th>text</th>\n",
       "      <th>address</th>\n",
       "      <th>categories</th>\n",
       "      <th>name</th>\n",
       "    </tr>\n",
       "  </thead>\n",
       "  <tbody>\n",
       "    <tr>\n",
       "      <th>0</th>\n",
       "      <td>uMvVYRgGNXf5boolA9HXTw</td>\n",
       "      <td>5.0</td>\n",
       "      <td>My experience with Shalimar was nothing but wo...</td>\n",
       "      <td>250 Westshore Plz</td>\n",
       "      <td>Shopping, Jewelry</td>\n",
       "      <td>Shalimar Fine Jewelers</td>\n",
       "    </tr>\n",
       "    <tr>\n",
       "      <th>1</th>\n",
       "      <td>uMvVYRgGNXf5boolA9HXTw</td>\n",
       "      <td>4.0</td>\n",
       "      <td>Very helpful and patient.  20\" 14k gold chain ...</td>\n",
       "      <td>250 Westshore Plz</td>\n",
       "      <td>Shopping, Jewelry</td>\n",
       "      <td>Shalimar Fine Jewelers</td>\n",
       "    </tr>\n",
       "    <tr>\n",
       "      <th>2</th>\n",
       "      <td>uMvVYRgGNXf5boolA9HXTw</td>\n",
       "      <td>5.0</td>\n",
       "      <td>They were all very easy to work with and went ...</td>\n",
       "      <td>250 Westshore Plz</td>\n",
       "      <td>Shopping, Jewelry</td>\n",
       "      <td>Shalimar Fine Jewelers</td>\n",
       "    </tr>\n",
       "    <tr>\n",
       "      <th>3</th>\n",
       "      <td>uMvVYRgGNXf5boolA9HXTw</td>\n",
       "      <td>1.0</td>\n",
       "      <td>They have forever lost my business. Ordered a ...</td>\n",
       "      <td>250 Westshore Plz</td>\n",
       "      <td>Shopping, Jewelry</td>\n",
       "      <td>Shalimar Fine Jewelers</td>\n",
       "    </tr>\n",
       "    <tr>\n",
       "      <th>4</th>\n",
       "      <td>uMvVYRgGNXf5boolA9HXTw</td>\n",
       "      <td>1.0</td>\n",
       "      <td>please dont go here they have bullshit gold th...</td>\n",
       "      <td>250 Westshore Plz</td>\n",
       "      <td>Shopping, Jewelry</td>\n",
       "      <td>Shalimar Fine Jewelers</td>\n",
       "    </tr>\n",
       "  </tbody>\n",
       "</table>\n",
       "</div>"
      ],
      "text/plain": [
       "              business_id  stars_review  \\\n",
       "0  uMvVYRgGNXf5boolA9HXTw           5.0   \n",
       "1  uMvVYRgGNXf5boolA9HXTw           4.0   \n",
       "2  uMvVYRgGNXf5boolA9HXTw           5.0   \n",
       "3  uMvVYRgGNXf5boolA9HXTw           1.0   \n",
       "4  uMvVYRgGNXf5boolA9HXTw           1.0   \n",
       "\n",
       "                                                text            address  \\\n",
       "0  My experience with Shalimar was nothing but wo...  250 Westshore Plz   \n",
       "1  Very helpful and patient.  20\" 14k gold chain ...  250 Westshore Plz   \n",
       "2  They were all very easy to work with and went ...  250 Westshore Plz   \n",
       "3  They have forever lost my business. Ordered a ...  250 Westshore Plz   \n",
       "4  please dont go here they have bullshit gold th...  250 Westshore Plz   \n",
       "\n",
       "          categories                    name  \n",
       "0  Shopping, Jewelry  Shalimar Fine Jewelers  \n",
       "1  Shopping, Jewelry  Shalimar Fine Jewelers  \n",
       "2  Shopping, Jewelry  Shalimar Fine Jewelers  \n",
       "3  Shopping, Jewelry  Shalimar Fine Jewelers  \n",
       "4  Shopping, Jewelry  Shalimar Fine Jewelers  "
      ]
     },
     "execution_count": 42,
     "metadata": {},
     "output_type": "execute_result"
    }
   ],
   "source": [
    "# Task 1 Snippet D - Refining the schema of the combined_df\n",
    "print(combined_df.columns)\n",
    "combined_df_refined = combined_df[['business_id', 'stars_review', 'text', 'address', 'categories', 'name',]]\n",
    "combined_df_refined.head()"
   ]
  },
  {
   "cell_type": "markdown",
   "metadata": {},
   "source": [
    "From the above, we can see that even in our combined and refined data frame, we are still holding onto data points we do not wish to assess. Nominally, we must only include those categories of business that have food in the category."
   ]
  },
  {
   "cell_type": "code",
   "execution_count": 43,
   "metadata": {},
   "outputs": [
    {
     "data": {
      "text/html": [
       "<div>\n",
       "<style scoped>\n",
       "    .dataframe tbody tr th:only-of-type {\n",
       "        vertical-align: middle;\n",
       "    }\n",
       "\n",
       "    .dataframe tbody tr th {\n",
       "        vertical-align: top;\n",
       "    }\n",
       "\n",
       "    .dataframe thead th {\n",
       "        text-align: right;\n",
       "    }\n",
       "</style>\n",
       "<table border=\"1\" class=\"dataframe\">\n",
       "  <thead>\n",
       "    <tr style=\"text-align: right;\">\n",
       "      <th></th>\n",
       "      <th>business_id</th>\n",
       "      <th>stars_review</th>\n",
       "      <th>text</th>\n",
       "      <th>address</th>\n",
       "      <th>name</th>\n",
       "    </tr>\n",
       "  </thead>\n",
       "  <tbody>\n",
       "    <tr>\n",
       "      <th>280</th>\n",
       "      <td>cg4JFJcCxRTTMmcg9O9KtA</td>\n",
       "      <td>1.0</td>\n",
       "      <td>Skip this train wreck if you are looking for d...</td>\n",
       "      <td>718 S Howard Ave</td>\n",
       "      <td>Ava</td>\n",
       "    </tr>\n",
       "    <tr>\n",
       "      <th>281</th>\n",
       "      <td>cg4JFJcCxRTTMmcg9O9KtA</td>\n",
       "      <td>4.0</td>\n",
       "      <td>This was my first time dining at Ava and I enj...</td>\n",
       "      <td>718 S Howard Ave</td>\n",
       "      <td>Ava</td>\n",
       "    </tr>\n",
       "    <tr>\n",
       "      <th>282</th>\n",
       "      <td>cg4JFJcCxRTTMmcg9O9KtA</td>\n",
       "      <td>5.0</td>\n",
       "      <td>Amazing dinner.  What a unique menu.  The serv...</td>\n",
       "      <td>718 S Howard Ave</td>\n",
       "      <td>Ava</td>\n",
       "    </tr>\n",
       "    <tr>\n",
       "      <th>283</th>\n",
       "      <td>cg4JFJcCxRTTMmcg9O9KtA</td>\n",
       "      <td>1.0</td>\n",
       "      <td>We went for lunch on Saturday.  They only serv...</td>\n",
       "      <td>718 S Howard Ave</td>\n",
       "      <td>Ava</td>\n",
       "    </tr>\n",
       "    <tr>\n",
       "      <th>284</th>\n",
       "      <td>cg4JFJcCxRTTMmcg9O9KtA</td>\n",
       "      <td>2.0</td>\n",
       "      <td>I order the bone in ribeye fit market value. T...</td>\n",
       "      <td>718 S Howard Ave</td>\n",
       "      <td>Ava</td>\n",
       "    </tr>\n",
       "  </tbody>\n",
       "</table>\n",
       "</div>"
      ],
      "text/plain": [
       "                business_id  stars_review  \\\n",
       "280  cg4JFJcCxRTTMmcg9O9KtA           1.0   \n",
       "281  cg4JFJcCxRTTMmcg9O9KtA           4.0   \n",
       "282  cg4JFJcCxRTTMmcg9O9KtA           5.0   \n",
       "283  cg4JFJcCxRTTMmcg9O9KtA           1.0   \n",
       "284  cg4JFJcCxRTTMmcg9O9KtA           2.0   \n",
       "\n",
       "                                                  text           address name  \n",
       "280  Skip this train wreck if you are looking for d...  718 S Howard Ave  Ava  \n",
       "281  This was my first time dining at Ava and I enj...  718 S Howard Ave  Ava  \n",
       "282  Amazing dinner.  What a unique menu.  The serv...  718 S Howard Ave  Ava  \n",
       "283  We went for lunch on Saturday.  They only serv...  718 S Howard Ave  Ava  \n",
       "284  I order the bone in ribeye fit market value. T...  718 S Howard Ave  Ava  "
      ]
     },
     "execution_count": 43,
     "metadata": {},
     "output_type": "execute_result"
    }
   ],
   "source": [
    "# Task 1 Snippet E - Generating final tampa_review_df\n",
    "tampa_review_df = ( combined_df_refined[combined_df_refined['categories'].str.contains('Food', na=False)] \\\n",
    "                   .drop(columns=['categories']) )\n",
    "tampa_review_df.head()"
   ]
  },
  {
   "cell_type": "code",
   "execution_count": 6,
   "metadata": {},
   "outputs": [
    {
     "data": {
      "image/png": "[encoded data removed]",
      "text/plain": [
       "<matplotlib.figure.Figure at 0x76c8d1c4e898>"
      ]
     },
     "metadata": {},
     "output_type": "display_data"
    }
   ],
   "source": [
    "# Task 1 Snippet F - "
   ]
  },
  {
   "cell_type": "markdown",
   "metadata": {},
   "source": [
    "<h3 style=\"color: orange;\">Task 2: Cleaning Tampa Health Data</h3>\n",
    "\n",
    "Our data analysis and exploration of our Tampa Health Data begins by importing the statewide food service inspections for fiscal year 2022-2023 as this is what the Yelp dataset covers up to.  <br><br>\n",
    "**NOTE** - Due to the large size of the datasets being operated upon, we have not included them in our repository. Please visit https://www2.myfloridalicense.com/hotels-restaurants/public-records/#1506344763000-101d4ee5-7a59 if you wish to run this analysis locally and ensure that the following file is placed in the raw_datasets directory after cloning. You may have to convert it from .xlsx to .csv\n",
    "+ *fdinspi_2223.csv*"
   ]
  },
  {
   "cell_type": "code",
   "execution_count": 7,
   "metadata": {},
   "outputs": [
    {
     "ename": "FileNotFoundError",
     "evalue": "File b'./fdinspi_2425.csv' does not exist",
     "output_type": "error",
     "traceback": [
      "\u001b[0;31m---------------------------------------------------------------------------\u001b[0m",
      "\u001b[0;31mFileNotFoundError\u001b[0m                         Traceback (most recent call last)",
      "\u001b[0;32m<ipython-input-7-a2097ce024d1>\u001b[0m in \u001b[0;36m<module>\u001b[0;34m()\u001b[0m\n\u001b[1;32m      1\u001b[0m \u001b[0;31m# Task 2 Snippet A - Importing our Tampa Health Data\u001b[0m\u001b[0;34m\u001b[0m\u001b[0;34m\u001b[0m\u001b[0;34m\u001b[0m\u001b[0m\n\u001b[0;32m----> 2\u001b[0;31m \u001b[0mhealth_df\u001b[0m \u001b[0;34m=\u001b[0m \u001b[0mpd\u001b[0m\u001b[0;34m.\u001b[0m\u001b[0mread_csv\u001b[0m\u001b[0;34m(\u001b[0m\u001b[0;34m\"./fdinspi_2425.csv\"\u001b[0m\u001b[0;34m)\u001b[0m\u001b[0;34m\u001b[0m\u001b[0;34m\u001b[0m\u001b[0m\n\u001b[0m\u001b[1;32m      3\u001b[0m \u001b[0mhealth_df\u001b[0m\u001b[0;34m.\u001b[0m\u001b[0mcolumns\u001b[0m\u001b[0;34m\u001b[0m\u001b[0;34m\u001b[0m\u001b[0m\n",
      "\u001b[0;32m/usr/lib/python3/dist-packages/pandas/io/parsers.py\u001b[0m in \u001b[0;36mparser_f\u001b[0;34m(filepath_or_buffer, sep, delimiter, header, names, index_col, usecols, squeeze, prefix, mangle_dupe_cols, dtype, engine, converters, true_values, false_values, skipinitialspace, skiprows, nrows, na_values, keep_default_na, na_filter, verbose, skip_blank_lines, parse_dates, infer_datetime_format, keep_date_col, date_parser, dayfirst, iterator, chunksize, compression, thousands, decimal, lineterminator, quotechar, quoting, escapechar, comment, encoding, dialect, tupleize_cols, error_bad_lines, warn_bad_lines, skipfooter, skip_footer, doublequote, delim_whitespace, as_recarray, compact_ints, use_unsigned, low_memory, buffer_lines, memory_map, float_precision)\u001b[0m\n\u001b[1;32m    707\u001b[0m                     skip_blank_lines=skip_blank_lines)\n\u001b[1;32m    708\u001b[0m \u001b[0;34m\u001b[0m\u001b[0m\n\u001b[0;32m--> 709\u001b[0;31m         \u001b[0;32mreturn\u001b[0m \u001b[0m_read\u001b[0m\u001b[0;34m(\u001b[0m\u001b[0mfilepath_or_buffer\u001b[0m\u001b[0;34m,\u001b[0m \u001b[0mkwds\u001b[0m\u001b[0;34m)\u001b[0m\u001b[0;34m\u001b[0m\u001b[0;34m\u001b[0m\u001b[0m\n\u001b[0m\u001b[1;32m    710\u001b[0m \u001b[0;34m\u001b[0m\u001b[0m\n\u001b[1;32m    711\u001b[0m     \u001b[0mparser_f\u001b[0m\u001b[0;34m.\u001b[0m\u001b[0m__name__\u001b[0m \u001b[0;34m=\u001b[0m \u001b[0mname\u001b[0m\u001b[0;34m\u001b[0m\u001b[0;34m\u001b[0m\u001b[0m\n",
      "\u001b[0;32m/usr/lib/python3/dist-packages/pandas/io/parsers.py\u001b[0m in \u001b[0;36m_read\u001b[0;34m(filepath_or_buffer, kwds)\u001b[0m\n\u001b[1;32m    447\u001b[0m \u001b[0;34m\u001b[0m\u001b[0m\n\u001b[1;32m    448\u001b[0m     \u001b[0;31m# Create the parser.\u001b[0m\u001b[0;34m\u001b[0m\u001b[0;34m\u001b[0m\u001b[0;34m\u001b[0m\u001b[0m\n\u001b[0;32m--> 449\u001b[0;31m     \u001b[0mparser\u001b[0m \u001b[0;34m=\u001b[0m \u001b[0mTextFileReader\u001b[0m\u001b[0;34m(\u001b[0m\u001b[0mfilepath_or_buffer\u001b[0m\u001b[0;34m,\u001b[0m \u001b[0;34m**\u001b[0m\u001b[0mkwds\u001b[0m\u001b[0;34m)\u001b[0m\u001b[0;34m\u001b[0m\u001b[0;34m\u001b[0m\u001b[0m\n\u001b[0m\u001b[1;32m    450\u001b[0m \u001b[0;34m\u001b[0m\u001b[0m\n\u001b[1;32m    451\u001b[0m     \u001b[0;32mif\u001b[0m \u001b[0mchunksize\u001b[0m \u001b[0;32mor\u001b[0m \u001b[0miterator\u001b[0m\u001b[0;34m:\u001b[0m\u001b[0;34m\u001b[0m\u001b[0;34m\u001b[0m\u001b[0m\n",
      "\u001b[0;32m/usr/lib/python3/dist-packages/pandas/io/parsers.py\u001b[0m in \u001b[0;36m__init__\u001b[0;34m(self, f, engine, **kwds)\u001b[0m\n\u001b[1;32m    816\u001b[0m             \u001b[0mself\u001b[0m\u001b[0;34m.\u001b[0m\u001b[0moptions\u001b[0m\u001b[0;34m[\u001b[0m\u001b[0;34m'has_index_names'\u001b[0m\u001b[0;34m]\u001b[0m \u001b[0;34m=\u001b[0m \u001b[0mkwds\u001b[0m\u001b[0;34m[\u001b[0m\u001b[0;34m'has_index_names'\u001b[0m\u001b[0;34m]\u001b[0m\u001b[0;34m\u001b[0m\u001b[0;34m\u001b[0m\u001b[0m\n\u001b[1;32m    817\u001b[0m \u001b[0;34m\u001b[0m\u001b[0m\n\u001b[0;32m--> 818\u001b[0;31m         \u001b[0mself\u001b[0m\u001b[0;34m.\u001b[0m\u001b[0m_make_engine\u001b[0m\u001b[0;34m(\u001b[0m\u001b[0mself\u001b[0m\u001b[0;34m.\u001b[0m\u001b[0mengine\u001b[0m\u001b[0;34m)\u001b[0m\u001b[0;34m\u001b[0m\u001b[0;34m\u001b[0m\u001b[0m\n\u001b[0m\u001b[1;32m    819\u001b[0m \u001b[0;34m\u001b[0m\u001b[0m\n\u001b[1;32m    820\u001b[0m     \u001b[0;32mdef\u001b[0m \u001b[0mclose\u001b[0m\u001b[0;34m(\u001b[0m\u001b[0mself\u001b[0m\u001b[0;34m)\u001b[0m\u001b[0;34m:\u001b[0m\u001b[0;34m\u001b[0m\u001b[0;34m\u001b[0m\u001b[0m\n",
      "\u001b[0;32m/usr/lib/python3/dist-packages/pandas/io/parsers.py\u001b[0m in \u001b[0;36m_make_engine\u001b[0;34m(self, engine)\u001b[0m\n\u001b[1;32m   1047\u001b[0m     \u001b[0;32mdef\u001b[0m \u001b[0m_make_engine\u001b[0m\u001b[0;34m(\u001b[0m\u001b[0mself\u001b[0m\u001b[0;34m,\u001b[0m \u001b[0mengine\u001b[0m\u001b[0;34m=\u001b[0m\u001b[0;34m'c'\u001b[0m\u001b[0;34m)\u001b[0m\u001b[0;34m:\u001b[0m\u001b[0;34m\u001b[0m\u001b[0;34m\u001b[0m\u001b[0m\n\u001b[1;32m   1048\u001b[0m         \u001b[0;32mif\u001b[0m \u001b[0mengine\u001b[0m \u001b[0;34m==\u001b[0m \u001b[0;34m'c'\u001b[0m\u001b[0;34m:\u001b[0m\u001b[0;34m\u001b[0m\u001b[0;34m\u001b[0m\u001b[0m\n\u001b[0;32m-> 1049\u001b[0;31m             \u001b[0mself\u001b[0m\u001b[0;34m.\u001b[0m\u001b[0m_engine\u001b[0m \u001b[0;34m=\u001b[0m \u001b[0mCParserWrapper\u001b[0m\u001b[0;34m(\u001b[0m\u001b[0mself\u001b[0m\u001b[0;34m.\u001b[0m\u001b[0mf\u001b[0m\u001b[0;34m,\u001b[0m \u001b[0;34m**\u001b[0m\u001b[0mself\u001b[0m\u001b[0;34m.\u001b[0m\u001b[0moptions\u001b[0m\u001b[0;34m)\u001b[0m\u001b[0;34m\u001b[0m\u001b[0;34m\u001b[0m\u001b[0m\n\u001b[0m\u001b[1;32m   1050\u001b[0m         \u001b[0;32melse\u001b[0m\u001b[0;34m:\u001b[0m\u001b[0;34m\u001b[0m\u001b[0;34m\u001b[0m\u001b[0m\n\u001b[1;32m   1051\u001b[0m             \u001b[0;32mif\u001b[0m \u001b[0mengine\u001b[0m \u001b[0;34m==\u001b[0m \u001b[0;34m'python'\u001b[0m\u001b[0;34m:\u001b[0m\u001b[0;34m\u001b[0m\u001b[0;34m\u001b[0m\u001b[0m\n",
      "\u001b[0;32m/usr/lib/python3/dist-packages/pandas/io/parsers.py\u001b[0m in \u001b[0;36m__init__\u001b[0;34m(self, src, **kwds)\u001b[0m\n\u001b[1;32m   1693\u001b[0m         \u001b[0mkwds\u001b[0m\u001b[0;34m[\u001b[0m\u001b[0;34m'allow_leading_cols'\u001b[0m\u001b[0;34m]\u001b[0m \u001b[0;34m=\u001b[0m \u001b[0mself\u001b[0m\u001b[0;34m.\u001b[0m\u001b[0mindex_col\u001b[0m \u001b[0;32mis\u001b[0m \u001b[0;32mnot\u001b[0m \u001b[0;32mFalse\u001b[0m\u001b[0;34m\u001b[0m\u001b[0;34m\u001b[0m\u001b[0m\n\u001b[1;32m   1694\u001b[0m \u001b[0;34m\u001b[0m\u001b[0m\n\u001b[0;32m-> 1695\u001b[0;31m         \u001b[0mself\u001b[0m\u001b[0;34m.\u001b[0m\u001b[0m_reader\u001b[0m \u001b[0;34m=\u001b[0m \u001b[0mparsers\u001b[0m\u001b[0;34m.\u001b[0m\u001b[0mTextReader\u001b[0m\u001b[0;34m(\u001b[0m\u001b[0msrc\u001b[0m\u001b[0;34m,\u001b[0m \u001b[0;34m**\u001b[0m\u001b[0mkwds\u001b[0m\u001b[0;34m)\u001b[0m\u001b[0;34m\u001b[0m\u001b[0;34m\u001b[0m\u001b[0m\n\u001b[0m\u001b[1;32m   1696\u001b[0m \u001b[0;34m\u001b[0m\u001b[0m\n\u001b[1;32m   1697\u001b[0m         \u001b[0;31m# XXX\u001b[0m\u001b[0;34m\u001b[0m\u001b[0;34m\u001b[0m\u001b[0;34m\u001b[0m\u001b[0m\n",
      "\u001b[0;32mpandas/_libs/parsers.pyx\u001b[0m in \u001b[0;36mpandas._libs.parsers.TextReader.__cinit__\u001b[0;34m()\u001b[0m\n",
      "\u001b[0;32mpandas/_libs/parsers.pyx\u001b[0m in \u001b[0;36mpandas._libs.parsers.TextReader._setup_parser_source\u001b[0;34m()\u001b[0m\n",
      "\u001b[0;31mFileNotFoundError\u001b[0m: File b'./fdinspi_2425.csv' does not exist"
     ]
    }
   ],
   "source": [
    "# Task 2 Snippet A - Importing our Tampa Health Data\n",
    "health_df = pd.read_csv(\"./raw_datasets/fdinspi_2223.csv\")\n",
    "health_df.columns"
   ]
  },
  {
   "cell_type": "markdown",
   "metadata": {},
   "source": [
    "As we can see from above, we have a ton of violation codes and other extraneous information that we do not need. To make the dataset more manageable to work with, we select only those columns with information about the violation levels, business name, and address so that we can join this with our review information."
   ]
  },
  {
   "cell_type": "code",
   "execution_count": null,
   "metadata": {},
   "outputs": [],
   "source": [
    "# Task 2 Snippet B - Selecting our useful features and filtering by city\n",
    "tampa_health_df = health_df[health_df['LOC_CITY'] == 'TAMPA']\n",
    "tampa_health_selected_df = tampa_health_df[['DBA_NAME', 'LOC_ADDRESS', 'HIGH_VIOL', 'INTERMED_VIOL', 'BASIC_VIOL']]"
   ]
  },
  {
   "cell_type": "code",
   "execution_count": null,
   "metadata": {},
   "outputs": [],
   "source": [
    "tampa_health_selected_df.head()"
   ]
  },
  {
   "cell_type": "markdown",
   "metadata": {},
   "source": [
    "<h2 style=\"color: lightskyblue;\">III. Integrating and Joining Data</h2>\n",
    "\n",
    "To clean our data sets and prepare them for joining so that we may build out our classification models, we pursue 2 tasks:\n",
    "1. *Cleaning our Yelp data*  \n",
    "2. *Cleaning our City health inspection data*"
   ]
  },
  {
   "cell_type": "markdown",
   "metadata": {},
   "source": [
    "<h3 style=\"color: orange;\">Task 1: EXAMPLE</h3>\n"
   ]
  },
  {
   "cell_type": "code",
   "execution_count": null,
   "metadata": {},
   "outputs": [],
   "source": [
    "# Task X Snippet A - Example\n"
   ]
  },
  {
   "cell_type": "code",
   "execution_count": null,
   "metadata": {},
   "outputs": [],
   "source": [
    "# Task X Snippet B -Example\n"
   ]
  },
  {
   "cell_type": "markdown",
   "metadata": {},
   "source": [
    "<h3 style=\"color: orange;\">Task 2: EXAMPLE</h3>\n"
   ]
  },
  {
   "cell_type": "markdown",
   "metadata": {},
   "source": [
    "<h2 style=\"color: lightskyblue;\">IV. Selecting Relevant Features</h2>\n",
    "\n",
    "To clean our data sets and prepare them for joining so that we may build out our classification models, we pursue 2 tasks:\n",
    "1. *Cleaning our Yelp data*  \n",
    "2. *Cleaning our City health inspection data*"
   ]
  },
  {
   "cell_type": "markdown",
   "metadata": {},
   "source": [
    "<h3 style=\"color: orange;\">Task 1: EXAMPLE</h3>\n"
   ]
  },
  {
   "cell_type": "code",
   "execution_count": null,
   "metadata": {},
   "outputs": [],
   "source": [
    "# Task X Snippet A - Example\n"
   ]
  },
  {
   "cell_type": "code",
   "execution_count": null,
   "metadata": {},
   "outputs": [],
   "source": [
    "# Task X Snippet B - Example\n"
   ]
  },
  {
   "cell_type": "markdown",
   "metadata": {},
   "source": [
    "<h3 style=\"color: orange;\">Task 2: EXAMPLE</h3>\n"
   ]
  },
  {
   "cell_type": "code",
   "execution_count": null,
   "metadata": {},
   "outputs": [],
   "source": [
    "# Task X Snippet A - Example\n"
   ]
  },
  {
   "cell_type": "code",
   "execution_count": null,
   "metadata": {},
   "outputs": [],
   "source": [
    "# Task X Snippet B - Example\n"
   ]
  },
  {
   "cell_type": "markdown",
   "metadata": {},
   "source": [
    "<h2 style=\"color: lightskyblue;\">V. Data Transformation</h2>\n",
    "\n",
    "To clean our data sets and prepare them for joining so that we may build out our classification models, we pursue 2 tasks:\n",
    "1. *Cleaning our Yelp data*  \n",
    "2. *Cleaning our City health inspection data*"
   ]
  },
  {
   "cell_type": "markdown",
   "metadata": {},
   "source": [
    "<h3 style=\"color: orange;\">Task 1: EXAMPLE</h3>\n"
   ]
  },
  {
   "cell_type": "code",
   "execution_count": null,
   "metadata": {},
   "outputs": [],
   "source": [
    "# Task X Snippet A - Example\n"
   ]
  },
  {
   "cell_type": "code",
   "execution_count": null,
   "metadata": {},
   "outputs": [],
   "source": [
    "# Task X Snippet B - Example\n"
   ]
  },
  {
   "cell_type": "markdown",
   "metadata": {},
   "source": [
    "<h3 style=\"color: orange;\">Task 2: EXAMPLE</h3>\n"
   ]
  },
  {
   "cell_type": "code",
   "execution_count": null,
   "metadata": {},
   "outputs": [],
   "source": [
    "# Task X Snippet A - Example\n"
   ]
  },
  {
   "cell_type": "code",
   "execution_count": null,
   "metadata": {},
   "outputs": [],
   "source": [
    "# Task X Snippet B - Example\n"
   ]
  },
  {
   "cell_type": "markdown",
   "metadata": {},
   "source": [
    "<h2 style=\"color: lightskyblue;\">VI. Data Mining</h2>\n",
    "\n",
    "To clean our data sets and prepare them for joining so that we may build out our classification models, we pursue 2 tasks:\n",
    "1. *Cleaning our Yelp data*  \n",
    "2. *Cleaning our City health inspection data*"
   ]
  },
  {
   "cell_type": "markdown",
   "metadata": {},
   "source": [
    "<h3 style=\"color: orange;\">Task 1: EXAMPLE</h3>\n"
   ]
  },
  {
   "cell_type": "code",
   "execution_count": null,
   "metadata": {},
   "outputs": [],
   "source": [
    "# Task X Snippet A - Example\n"
   ]
  },
  {
   "cell_type": "code",
   "execution_count": null,
   "metadata": {},
   "outputs": [],
   "source": [
    "# Task X Snippet B - Example\n"
   ]
  },
  {
   "cell_type": "markdown",
   "metadata": {},
   "source": [
    "<h3 style=\"color: orange;\">Task 2: EXAMPLE</h3>\n"
   ]
  },
  {
   "cell_type": "code",
   "execution_count": null,
   "metadata": {},
   "outputs": [],
   "source": [
    "# Task X Snippet A - Example\n"
   ]
  },
  {
   "cell_type": "code",
   "execution_count": null,
   "metadata": {},
   "outputs": [],
   "source": [
    "# Task X Snippet B - Example\n"
   ]
  },
  {
   "cell_type": "markdown",
   "metadata": {},
   "source": [
    "<h2 style=\"color: lightskyblue;\">VII. Pattern Evaluation and Model Construction</h2>\n",
    "\n",
    "To clean our data sets and prepare them for joining so that we may build out our classification models, we pursue 2 tasks:\n",
    "1. *Cleaning our Yelp data*  \n",
    "2. *Cleaning our City health inspection data*"
   ]
  },
  {
   "cell_type": "markdown",
   "metadata": {},
   "source": [
    "<h3 style=\"color: orange;\">Task 1: EXAMPLE</h3>\n"
   ]
  },
  {
   "cell_type": "code",
   "execution_count": null,
   "metadata": {},
   "outputs": [],
   "source": [
    "# Task X Snippet A - Example\n"
   ]
  },
  {
   "cell_type": "code",
   "execution_count": null,
   "metadata": {},
   "outputs": [],
   "source": [
    "# Task X Snippet B - Example\n"
   ]
  },
  {
   "cell_type": "markdown",
   "metadata": {},
   "source": [
    "<h3 style=\"color: orange;\">Task 2: EXAMPLE</h3>\n"
   ]
  },
  {
   "cell_type": "code",
   "execution_count": null,
   "metadata": {},
   "outputs": [],
   "source": [
    "# Task X Snippet A - Example\n"
   ]
  },
  {
   "cell_type": "code",
   "execution_count": null,
   "metadata": {},
   "outputs": [],
   "source": [
    "# Task X Snippet B - Example\n"
   ]
  },
  {
   "cell_type": "markdown",
   "metadata": {},
   "source": [
    "<h2 style=\"color: lightskyblue;\">VIII. Model Performance and Analysis</h2>\n",
    "\n",
    "To clean our data sets and prepare them for joining so that we may build out our classification models, we pursue 2 tasks:\n",
    "1. *Cleaning our Yelp data*  \n",
    "2. *Cleaning our City health inspection data*"
   ]
  },
  {
   "cell_type": "markdown",
   "metadata": {},
   "source": [
    "<h3 style=\"color: orange;\">Task 1: EXAMPLE</h3>\n"
   ]
  },
  {
   "cell_type": "code",
   "execution_count": null,
   "metadata": {},
   "outputs": [],
   "source": [
    "# Task X Snippet A - Example\n"
   ]
  },
  {
   "cell_type": "code",
   "execution_count": null,
   "metadata": {},
   "outputs": [],
   "source": [
    "# Task X Snippet B - Example\n"
   ]
  },
  {
   "cell_type": "markdown",
   "metadata": {},
   "source": [
    "<h3 style=\"color: orange;\">Task 2: EXAMPLE</h3>\n"
   ]
  },
  {
   "cell_type": "code",
   "execution_count": null,
   "metadata": {},
   "outputs": [],
   "source": [
    "# Task X Snippet A - Example\n"
   ]
  },
  {
   "cell_type": "code",
   "execution_count": null,
   "metadata": {},
   "outputs": [],
   "source": [
    "# Task X Snippet B - Example\n"
   ]
  }
 ],
 "metadata": {
  "kernelspec": {
   "display_name": "Python 3",
   "language": "python",
   "name": "python3"
  },
  "language_info": {
   "codemirror_mode": {
    "name": "ipython",
    "version": 3
   },
   "file_extension": ".py",
   "mimetype": "text/x-python",
   "name": "python",
   "nbconvert_exporter": "python",
   "pygments_lexer": "ipython3",
   "version": "3.6.9"
  }
 },
 "nbformat": 4,
 "nbformat_minor": 5
}
